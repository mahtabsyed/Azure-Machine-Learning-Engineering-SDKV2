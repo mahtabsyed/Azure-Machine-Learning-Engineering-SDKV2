{
 "cells": [
  {
   "cell_type": "code",
   "execution_count": null,
   "metadata": {},
   "outputs": [],
   "source": [
    "import json\n",
    "# Load config from config.json file\n",
    "try:\n",
    "    with open('config.json') as user_file:\n",
    "          parsed_json = json.load(user_file)\n",
    "            \n",
    "    # print(parsed_json)\n",
    "    subscription_id = parsed_json[\"subscription_id\"]\n",
    "    resource_group = parsed_json[\"resource_group\"]\n",
    "    workspace = parsed_json[\"workspace_name\"]\n",
    "    # print(f\"{subscription_id}, {resource_group}, {workspace}\")\n",
    "    \n",
    "except:\n",
    "    print(\"Unable to find config.json\")"
   ]
  }
 ],
 "metadata": {
  "language_info": {
   "name": "python"
  }
 },
 "nbformat": 4,
 "nbformat_minor": 2
}
