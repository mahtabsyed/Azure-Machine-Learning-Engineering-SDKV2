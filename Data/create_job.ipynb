{
  "cells": [
    {
      "cell_type": "code",
      "source": [
        "# import required libraries\n",
        "from azure.ai.ml import MLClient\n",
        "from azure.identity import DefaultAzureCredential\n",
        "from azure.ai.ml import command, Input\n",
        "from azure.ai.ml.entities import (\n",
        "    AzureBlobDatastore,\n",
        "    AzureFileDatastore,\n",
        "    AzureDataLakeGen1Datastore,\n",
        "    AzureDataLakeGen2Datastore,\n",
        ")\n",
        "from azure.ai.ml.entities import Environment"
      ],
      "outputs": [],
      "execution_count": null,
      "metadata": {
        "gather": {
          "logged": 1716792381693
        }
      }
    },
    {
      "cell_type": "code",
      "source": [
        "# get a handle to the workspace\n",
        "ml_client = MLClient.from_config(credential=DefaultAzureCredential(), path=\"../Azure-Machine-Learning-Engineering-SDKV2/\")\n",
        "ml_client"
      ],
      "outputs": [],
      "execution_count": null,
      "metadata": {
        "gather": {
          "logged": 1716792382489
        }
      }
    },
    {
      "cell_type": "markdown",
      "source": [
        "## Create a job"
      ],
      "metadata": {}
    },
    {
      "cell_type": "markdown",
      "source": [
        "### Materializing MLTable artifact into pandas dataframe "
      ],
      "metadata": {}
    },
    {
      "cell_type": "code",
      "source": [
        "import mltable\n",
        "tbl = mltable.load(uri=\"./my_data\")\n",
        "df = tbl.to_pandas_dataframe()\n",
        "df"
      ],
      "outputs": [],
      "execution_count": null,
      "metadata": {
        "gather": {
          "logged": 1716792383828
        }
      }
    },
    {
      "cell_type": "markdown",
      "source": [
        "### Create Docker environment for consuming MLTable."
      ],
      "metadata": {}
    },
    {
      "cell_type": "code",
      "source": [
        "from azure.ai.ml.entities import Environment\n",
        "\n",
        "env_docker_conda = Environment(\n",
        "    image=\"mcr.microsoft.com/azureml/openmpi3.1.2-ubuntu18.04\",\n",
        "    conda_file=\"env-mltable.yml\",\n",
        "    name=\"mltable\",\n",
        "    description=\"Environment created for consuming MLTable.\",\n",
        ")\n",
        "\n",
        "ml_client.environments.create_or_update(env_docker_conda)"
      ],
      "outputs": [],
      "execution_count": null,
      "metadata": {
        "gather": {
          "logged": 1716792384711
        }
      }
    },
    {
      "cell_type": "markdown",
      "source": [
        "### Creating a compute cluster where the AML job is submitted to"
      ],
      "metadata": {}
    },
    {
      "cell_type": "code",
      "source": [
        "from azure.ai.ml.entities import ComputeInstance, AmlCompute\n",
        "\n",
        "compute_cluster = AmlCompute(\n",
        "    name=\"cpu-cluster\",\n",
        "    type=\"amlcompute\",\n",
        "    size=\"STANDARD_DS3_v2\",\n",
        "    location=\"australiaeast\",\n",
        "    min_instances=0,\n",
        "    max_instances=2,\n",
        "    idle_time_before_scale_down=120,\n",
        ")\n",
        "ml_client.begin_create_or_update(compute_cluster)"
      ],
      "outputs": [],
      "execution_count": null,
      "metadata": {
        "gather": {
          "logged": 1716792385177
        }
      }
    },
    {
      "cell_type": "markdown",
      "source": [
        "## Creating and submitting AML job\n",
        "for more information see https://learn.microsoft.com/en-us/azure/machine-learning/how-to-create-data-assets?tabs=Python-SDK#create-a-mltable-data-asset"
      ],
      "metadata": {}
    },
    {
      "cell_type": "code",
      "source": [
        "from azure.ai.ml import command\n",
        "from azure.ai.ml.entities import Data\n",
        "from azure.ai.ml import Input\n",
        "from azure.ai.ml.constants import AssetTypes\n",
        "\n",
        "\n",
        "# Possible Paths for Data:\n",
        "# Blob: https://<account_name>.blob.core.windows.net/<container_name>/<folder>/<file>\n",
        "# Datastore: azureml://datastores/paths/<folder>/<file>\n",
        "# Data Asset: azureml:<my_data>:<version>\n",
        "\n",
        "\n",
        "# for example you can use either one of the following paths:\n",
        "inputs = {\"input_data\": Input(type=AssetTypes.MLTABLE, path=\"./my_data/\")}\n",
        "# or\n",
        "# inputs = {\"input_data\": Input(type=AssetTypes.MLTABLE, path=\"azureml:titanic-mltable-sdk:1\")}\n",
        "\n",
        "# Refer - https://learn.microsoft.com/en-us/azure/machine-learning/migrate-to-v2-command-job?view=azureml-api-2\n",
        "\n",
        "job = command(\n",
        "    code=\".\",  # local path where the code is stored\n",
        "    command=\"python read_data.py --input_data ${{inputs.input_data}}\",\n",
        "    inputs=inputs,\n",
        "    environment=env_docker_conda,\n",
        "    compute=\"cpu-cluster\",\n",
        ")\n",
        "\n",
        "# returned_job = ml_client.jobs.create_or_update(job)\n",
        "# errors\n",
        "# 30 returned_job = ml_client.jobs.create_or_update(job)\n",
        "# File /anaconda/envs/azureml_py310_sdkv2/lib/python3.10/site-packages/azure/core/tracing/decorator.py:76, in distributed_trace.<locals>.decorator.<locals>.wrapper_use_tracer(*args, **kwargs)\n",
        "#      74 span_impl_type = settings.tracing_implementation()\n",
        "#      75 if span_impl_type is None:\n",
        "# ---> 76     return func(*args, **kwargs)\n",
        "\n",
        "# submit the command\n",
        "returned_job = ml_client.jobs.create_or_update(job, experiment_name=\"data_read_job\")\n",
        "\n",
        "\n",
        "\n",
        "# get a URL for the status of the job\n",
        "returned_job.services[\"Studio\"].endpoint"
      ],
      "outputs": [],
      "execution_count": null,
      "metadata": {
        "gather": {
          "logged": 1716792553429
        }
      }
    },
    {
      "cell_type": "code",
      "source": [],
      "outputs": [],
      "execution_count": null,
      "metadata": {
        "jupyter": {
          "source_hidden": false,
          "outputs_hidden": false
        },
        "nteract": {
          "transient": {
            "deleting": false
          }
        }
      }
    }
  ],
  "metadata": {
    "kernel_info": {
      "name": "python310-sdkv2"
    },
    "kernelspec": {
      "name": "python310-sdkv2",
      "language": "python",
      "display_name": "Python 3.10 - SDK v2"
    },
    "language_info": {
      "name": "python",
      "version": "3.10.11",
      "mimetype": "text/x-python",
      "codemirror_mode": {
        "name": "ipython",
        "version": 3
      },
      "pygments_lexer": "ipython3",
      "nbconvert_exporter": "python",
      "file_extension": ".py"
    },
    "microsoft": {
      "host": {
        "AzureML": {
          "notebookHasBeenCompleted": true
        }
      },
      "ms_spell_check": {
        "ms_spell_check_language": "en"
      }
    },
    "nteract": {
      "version": "nteract-front-end@1.0.0"
    }
  },
  "nbformat": 4,
  "nbformat_minor": 2
}