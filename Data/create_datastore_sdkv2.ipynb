{
  "cells": [
    {
      "cell_type": "code",
      "execution_count": null,
      "id": "3b565420",
      "metadata": {
        "gather": {
          "logged": 1716616305522
        }
      },
      "outputs": [],
      "source": [
        "# import required libraries\n",
        "from azure.ai.ml import MLClient\n",
        "from azure.identity import DefaultAzureCredential\n",
        "from azure.ai.ml import command, Input\n",
        "from azure.ai.ml.entities import (\n",
        "    AzureBlobDatastore,\n",
        "    AzureFileDatastore,\n",
        "    AzureDataLakeGen1Datastore,\n",
        "    AzureDataLakeGen2Datastore,\n",
        ")\n",
        "from azure.ai.ml.entities import Environment"
      ]
    },
    {
      "cell_type": "markdown",
      "id": "4eaa773f-403c-4f7a-b325-9b224ac4168d",
      "metadata": {
        "nteract": {
          "transient": {
            "deleting": false
          }
        }
      },
      "source": [
        "## Create Blob storage datastore"
      ]
    },
    {
      "cell_type": "code",
      "execution_count": null,
      "id": "67b51215-e7e6-4606-acf8-9613c7a81937",
      "metadata": {
        "gather": {
          "logged": 1716616312516
        },
        "jupyter": {
          "outputs_hidden": false,
          "source_hidden": false
        },
        "nteract": {
          "transient": {
            "deleting": false
          }
        }
      },
      "outputs": [],
      "source": [
        "# get a handle to the workspace\n",
        "ml_client = MLClient.from_config(credential=DefaultAzureCredential(), path=\"../Azure-Machine-Learning-Engineering-SDKV2/\")\n",
        "# ml_client"
      ]
    },
    {
      "cell_type": "code",
      "execution_count": null,
      "id": "2dc4802e-07bc-4408-9a97-5e6bf0863152",
      "metadata": {
        "gather": {
          "logged": 1716616322709
        },
        "jupyter": {
          "outputs_hidden": false,
          "source_hidden": false
        },
        "nteract": {
          "transient": {
            "deleting": false
          }
        }
      },
      "outputs": [],
      "source": [
        "# Refer\n",
        "# https://learn.microsoft.com/en-us/azure/machine-learning/how-to-datastore\n",
        "# https://learn.microsoft.com/en-us/python/api/azure-ai-ml/azure.ai.ml.mlclient?view=azure-python\n",
        "\n",
        "store = AzureBlobDatastore(\n",
        "    name=\"blob_storage\",\n",
        "    description=\"AML Datastore pointing to a blob storage\",\n",
        "    account_name=\"amlv2sa25052024\",\n",
        "    container_name=\"datacontainer\"\n",
        ")\n",
        "\n",
        "ml_client.create_or_update(store)"
      ]
    },
    {
      "cell_type": "code",
      "execution_count": null,
      "id": "e4c7b6f5",
      "metadata": {},
      "outputs": [],
      "source": []
    }
  ],
  "metadata": {
    "kernel_info": {
      "name": "python310-sdkv2"
    },
    "kernelspec": {
      "display_name": "Python 3.10 - SDK v2",
      "language": "python",
      "name": "python310-sdkv2"
    },
    "language_info": {
      "codemirror_mode": {
        "name": "ipython",
        "version": 3
      },
      "file_extension": ".py",
      "mimetype": "text/x-python",
      "name": "python",
      "nbconvert_exporter": "python",
      "pygments_lexer": "ipython3",
      "version": "3.10.11"
    },
    "microsoft": {
      "host": {
        "AzureML": {
          "notebookHasBeenCompleted": true
        }
      },
      "ms_spell_check": {
        "ms_spell_check_language": "en"
      }
    },
    "nteract": {
      "version": "nteract-front-end@1.0.0"
    }
  },
  "nbformat": 4,
  "nbformat_minor": 5
}
