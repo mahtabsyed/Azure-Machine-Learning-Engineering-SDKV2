{
  "cells": [
    {
      "cell_type": "code",
      "execution_count": null,
      "id": "c0825e8f",
      "metadata": {
        "gather": {
          "logged": 1716616352537
        }
      },
      "outputs": [],
      "source": [
        "# import required libraries\n",
        "from azure.ai.ml import MLClient\n",
        "from azure.identity import DefaultAzureCredential\n",
        "from azure.ai.ml import command, Input\n",
        "from azure.ai.ml.entities import (\n",
        "    AzureBlobDatastore,\n",
        "    AzureFileDatastore,\n",
        "    AzureDataLakeGen1Datastore,\n",
        "    AzureDataLakeGen2Datastore,\n",
        ")\n",
        "from azure.ai.ml.entities import Environment"
      ]
    },
    {
      "cell_type": "markdown",
      "id": "801dffc3-ee30-4011-9072-ce855f62b3ee",
      "metadata": {
        "nteract": {
          "transient": {
            "deleting": false
          }
        }
      },
      "source": [
        "## Create data asset"
      ]
    },
    {
      "cell_type": "code",
      "execution_count": null,
      "id": "b3f03943-21e7-4ddd-b3b5-eda299df4166",
      "metadata": {
        "gather": {
          "logged": 1716616355505
        },
        "jupyter": {
          "outputs_hidden": false,
          "source_hidden": false
        },
        "nteract": {
          "transient": {
            "deleting": false
          }
        }
      },
      "outputs": [],
      "source": [
        "# get a handle to the workspace\n",
        "ml_client = MLClient.from_config(credential=DefaultAzureCredential(), path=\"../Azure-Machine-Learning-Engineering-SDKV2/\")\n",
        "# ml_client"
      ]
    },
    {
      "cell_type": "code",
      "execution_count": null,
      "id": "1f019a04",
      "metadata": {
        "gather": {
          "logged": 1716615982787
        }
      },
      "outputs": [],
      "source": [
        "from azure.ai.ml.entities import Data\n",
        "from azure.ai.ml.constants import AssetTypes\n",
        "\n",
        "# my_path must point to folder containing MLTable artifact (MLTable file + data\n",
        "# Supported paths include:\n",
        "# local: './<path>'\n",
        "# blob:  'https://<account_name>.blob.core.windows.net/<container_name>/<path>'\n",
        "# ADLS gen2: 'abfss://<file_system>@<account_name>.dfs.core.windows.net/<path>/'\n",
        "# Datastore: 'azureml://datastores/<data_store_name>/paths/<path>'\n",
        "\n",
        "my_path = './my_data/'\n",
        "\n",
        "my_data = Data(\n",
        "    path=my_path,\n",
        "    type=AssetTypes.MLTABLE,\n",
        "    description=\"description\",\n",
        "    name=\"titanic-mltable-sdk\",\n",
        "    version='1'\n",
        ")\n",
        "\n",
        "ml_client.data.create_or_update(my_data)"
      ]
    },
    {
      "cell_type": "code",
      "execution_count": null,
      "id": "74542023",
      "metadata": {},
      "outputs": [],
      "source": []
    }
  ],
  "metadata": {
    "kernel_info": {
      "name": "python310-sdkv2"
    },
    "kernelspec": {
      "display_name": "Python 3.10 - SDK v2",
      "language": "python",
      "name": "python310-sdkv2"
    },
    "language_info": {
      "codemirror_mode": {
        "name": "ipython",
        "version": 3
      },
      "file_extension": ".py",
      "mimetype": "text/x-python",
      "name": "python",
      "nbconvert_exporter": "python",
      "pygments_lexer": "ipython3",
      "version": "3.10.11"
    },
    "microsoft": {
      "host": {
        "AzureML": {
          "notebookHasBeenCompleted": true
        }
      },
      "ms_spell_check": {
        "ms_spell_check_language": "en"
      }
    },
    "nteract": {
      "version": "nteract-front-end@1.0.0"
    }
  },
  "nbformat": 4,
  "nbformat_minor": 5
}
