{
  "cells": [
    {
      "cell_type": "markdown",
      "source": [
        "## To learn more about AML pipelines and remote jobs please refer to https://github.com/Azure/azureml-examples"
      ],
      "metadata": {},
      "id": "944e3b2b"
    },
    {
      "cell_type": "markdown",
      "source": [
        "## This notebook was test using Python 3.8 - AzureML kernel"
      ],
      "metadata": {},
      "id": "32ebb157"
    },
    {
      "cell_type": "code",
      "source": [
        "#%pip install azure-ai-ml"
      ],
      "outputs": [],
      "execution_count": null,
      "metadata": {},
      "id": "3efc46f2"
    },
    {
      "cell_type": "code",
      "source": [
        "import azure.ai.ml "
      ],
      "outputs": [],
      "execution_count": 1,
      "metadata": {
        "gather": {
          "logged": 1716893332407
        }
      },
      "id": "b6502f7e"
    },
    {
      "cell_type": "code",
      "source": [
        "# import required libraries\n",
        "from azure.ai.ml import MLClient\n",
        "from azure.identity import DefaultAzureCredential\n",
        "from azure.ai.ml import command, Input\n",
        "from azure.ai.ml.entities import (\n",
        "    AzureBlobDatastore,\n",
        "    AzureFileDatastore,\n",
        "    AzureDataLakeGen1Datastore,\n",
        "    AzureDataLakeGen2Datastore,\n",
        ")\n",
        "from azure.ai.ml.entities import Environment"
      ],
      "outputs": [],
      "execution_count": 27,
      "metadata": {
        "gather": {
          "logged": 1716893540640
        }
      },
      "id": "32d3d6ee"
    },
    {
      "cell_type": "code",
      "source": [
        "# get a handle to the workspace\n",
        "ml_client = MLClient.from_config(credential=DefaultAzureCredential(), path=\"../Azure-Machine-Learning-Engineering-SDKV2/\")\n",
        "# ml_client"
      ],
      "outputs": [
        {
          "output_type": "stream",
          "name": "stderr",
          "text": "Found the config file in: /mnt/batch/tasks/shared/LS_root/mounts/clusters/amldevcomputev2/code/Users/270351/Azure-Machine-Learning-Engineering-SDKV2/config.json\n"
        }
      ],
      "execution_count": 28,
      "metadata": {
        "gather": {
          "logged": 1716893544434
        }
      },
      "id": "28448c88"
    },
    {
      "cell_type": "code",
      "source": [
        "import pandas as pd\n",
        "file_name = os.path.join('my_data', \"titanic.csv\") \n",
        "df = pd.read_csv(file_name)\n",
        "print(df.shape)\n",
        "print(df.columns)"
      ],
      "outputs": [
        {
          "output_type": "stream",
          "name": "stdout",
          "text": "(891, 12)\nIndex(['PassengerId', 'Survived', 'Pclass', 'Name', 'Sex', 'Age', 'SibSp',\n       'Parch', 'Ticket', 'Fare', 'Cabin', 'Embarked'],\n      dtype='object')\n"
        }
      ],
      "execution_count": 4,
      "metadata": {
        "gather": {
          "logged": 1716893341876
        }
      },
      "id": "e1c04025"
    },
    {
      "cell_type": "code",
      "source": [
        "df.head(5)"
      ],
      "outputs": [
        {
          "output_type": "execute_result",
          "execution_count": 5,
          "data": {
            "text/plain": "   PassengerId  Survived  Pclass  \\\n0            1         0       3   \n1            2         1       1   \n2            3         1       3   \n3            4         1       1   \n4            5         0       3   \n\n                                                Name     Sex   Age  SibSp  \\\n0                            Braund, Mr. Owen Harris    male  22.0      1   \n1  Cumings, Mrs. John Bradley (Florence Briggs Th...  female  38.0      1   \n2                             Heikkinen, Miss. Laina  female  26.0      0   \n3       Futrelle, Mrs. Jacques Heath (Lily May Peel)  female  35.0      1   \n4                           Allen, Mr. William Henry    male  35.0      0   \n\n   Parch            Ticket     Fare Cabin Embarked  \n0      0         A/5 21171   7.2500   NaN        S  \n1      0          PC 17599  71.2833   C85        C  \n2      0  STON/O2. 3101282   7.9250   NaN        S  \n3      0            113803  53.1000  C123        S  \n4      0            373450   8.0500   NaN        S  ",
            "text/html": "<div>\n<style scoped>\n    .dataframe tbody tr th:only-of-type {\n        vertical-align: middle;\n    }\n\n    .dataframe tbody tr th {\n        vertical-align: top;\n    }\n\n    .dataframe thead th {\n        text-align: right;\n    }\n</style>\n<table border=\"1\" class=\"dataframe\">\n  <thead>\n    <tr style=\"text-align: right;\">\n      <th></th>\n      <th>PassengerId</th>\n      <th>Survived</th>\n      <th>Pclass</th>\n      <th>Name</th>\n      <th>Sex</th>\n      <th>Age</th>\n      <th>SibSp</th>\n      <th>Parch</th>\n      <th>Ticket</th>\n      <th>Fare</th>\n      <th>Cabin</th>\n      <th>Embarked</th>\n    </tr>\n  </thead>\n  <tbody>\n    <tr>\n      <th>0</th>\n      <td>1</td>\n      <td>0</td>\n      <td>3</td>\n      <td>Braund, Mr. Owen Harris</td>\n      <td>male</td>\n      <td>22.0</td>\n      <td>1</td>\n      <td>0</td>\n      <td>A/5 21171</td>\n      <td>7.2500</td>\n      <td>NaN</td>\n      <td>S</td>\n    </tr>\n    <tr>\n      <th>1</th>\n      <td>2</td>\n      <td>1</td>\n      <td>1</td>\n      <td>Cumings, Mrs. John Bradley (Florence Briggs Th...</td>\n      <td>female</td>\n      <td>38.0</td>\n      <td>1</td>\n      <td>0</td>\n      <td>PC 17599</td>\n      <td>71.2833</td>\n      <td>C85</td>\n      <td>C</td>\n    </tr>\n    <tr>\n      <th>2</th>\n      <td>3</td>\n      <td>1</td>\n      <td>3</td>\n      <td>Heikkinen, Miss. Laina</td>\n      <td>female</td>\n      <td>26.0</td>\n      <td>0</td>\n      <td>0</td>\n      <td>STON/O2. 3101282</td>\n      <td>7.9250</td>\n      <td>NaN</td>\n      <td>S</td>\n    </tr>\n    <tr>\n      <th>3</th>\n      <td>4</td>\n      <td>1</td>\n      <td>1</td>\n      <td>Futrelle, Mrs. Jacques Heath (Lily May Peel)</td>\n      <td>female</td>\n      <td>35.0</td>\n      <td>1</td>\n      <td>0</td>\n      <td>113803</td>\n      <td>53.1000</td>\n      <td>C123</td>\n      <td>S</td>\n    </tr>\n    <tr>\n      <th>4</th>\n      <td>5</td>\n      <td>0</td>\n      <td>3</td>\n      <td>Allen, Mr. William Henry</td>\n      <td>male</td>\n      <td>35.0</td>\n      <td>0</td>\n      <td>0</td>\n      <td>373450</td>\n      <td>8.0500</td>\n      <td>NaN</td>\n      <td>S</td>\n    </tr>\n  </tbody>\n</table>\n</div>"
          },
          "metadata": {}
        }
      ],
      "execution_count": 5,
      "metadata": {
        "gather": {
          "logged": 1716893345600
        }
      },
      "id": "aecdc8d3"
    },
    {
      "cell_type": "code",
      "source": [
        "df.isnull().sum()"
      ],
      "outputs": [
        {
          "output_type": "execute_result",
          "execution_count": 6,
          "data": {
            "text/plain": "PassengerId      0\nSurvived         0\nPclass           0\nName             0\nSex              0\nAge            177\nSibSp            0\nParch            0\nTicket           0\nFare             0\nCabin          687\nEmbarked         2\ndtype: int64"
          },
          "metadata": {}
        }
      ],
      "execution_count": 6,
      "metadata": {
        "gather": {
          "logged": 1716893349093
        }
      },
      "id": "938d5552"
    },
    {
      "cell_type": "code",
      "source": [
        "df.shape"
      ],
      "outputs": [
        {
          "output_type": "execute_result",
          "execution_count": 7,
          "data": {
            "text/plain": "(891, 12)"
          },
          "metadata": {}
        }
      ],
      "execution_count": 7,
      "metadata": {
        "gather": {
          "logged": 1716893351376
        }
      },
      "id": "dc07f352"
    },
    {
      "cell_type": "code",
      "source": [
        "columns_missing = df.isna().sum().where(lambda x : x > 0).dropna()\n",
        "\n",
        "ax = columns_missing \\\n",
        ".plot(kind='bar', alpha=0.9, title='Columns Missing Values', table=True)\n",
        "ax.xaxis.set_visible(False) # hide x axis labels\n",
        "\n",
        "for x in ax.patches:\n",
        "    ax.text(x.get_x()+.1, x.get_height()+5, \\\n",
        "            str(round((x.get_height()/df.shape[0])*100, 1))+'%')"
      ],
      "outputs": [
        {
          "output_type": "display_data",
          "data": {
            "image/png": "[encoded data removed]",
            "text/plain": "<Figure size 640x480 with 1 Axes>"
          },
          "metadata": {}
        }
      ],
      "execution_count": 9,
      "metadata": {},
      "id": "4d2b415a"
    },
    {
      "cell_type": "code",
      "source": [
        "display(df.groupby(['Pclass', 'Sex'])['Age'].count())\n",
        "\n",
        "display(df.groupby(['Pclass', 'Sex'])['Age'].median())"
      ],
      "outputs": [
        {
          "output_type": "display_data",
          "data": {
            "text/plain": "Pclass  Sex   \n1       female     85\n        male      101\n2       female     74\n        male       99\n3       female    102\n        male      253\nName: Age, dtype: int64"
          },
          "metadata": {}
        },
        {
          "output_type": "display_data",
          "data": {
            "text/plain": "Pclass  Sex   \n1       female    35.0\n        male      40.0\n2       female    28.0\n        male      30.0\n3       female    21.5\n        male      25.0\nName: Age, dtype: float64"
          },
          "metadata": {}
        }
      ],
      "execution_count": 8,
      "metadata": {
        "gather": {
          "logged": 1716893354702
        }
      },
      "id": "b22863e8"
    },
    {
      "cell_type": "code",
      "source": [
        "# Giving error\n",
        "# df['Age'] = df.groupby(['Pclass', 'Sex'])['Age'].apply(lambda x: x.fillna(x.median()))\n",
        "# df.isnull().sum()"
      ],
      "outputs": [],
      "execution_count": null,
      "metadata": {},
      "id": "315ed02e"
    },
    {
      "cell_type": "code",
      "source": [
        "df.isnull().sum()"
      ],
      "outputs": [
        {
          "output_type": "execute_result",
          "execution_count": 9,
          "data": {
            "text/plain": "PassengerId      0\nSurvived         0\nPclass           0\nName             0\nSex              0\nAge            177\nSibSp            0\nParch            0\nTicket           0\nFare             0\nCabin          687\nEmbarked         2\ndtype: int64"
          },
          "metadata": {}
        }
      ],
      "execution_count": 9,
      "metadata": {
        "gather": {
          "logged": 1716893357747
        }
      },
      "id": "4d45cf32"
    },
    {
      "cell_type": "code",
      "source": [
        "age_median = df[\"Age\"].median()\n",
        "age_median"
      ],
      "outputs": [
        {
          "output_type": "execute_result",
          "execution_count": 10,
          "data": {
            "text/plain": "28.0"
          },
          "metadata": {}
        }
      ],
      "execution_count": 10,
      "metadata": {
        "gather": {
          "logged": 1716893362903
        }
      },
      "id": "0e3b764f"
    },
    {
      "cell_type": "code",
      "source": [
        "df['Age'].fillna(age_median, inplace=True)"
      ],
      "outputs": [],
      "execution_count": 11,
      "metadata": {
        "gather": {
          "logged": 1716893367368
        }
      },
      "id": "f1a9674b"
    },
    {
      "cell_type": "code",
      "source": [
        "df.isnull().sum()"
      ],
      "outputs": [
        {
          "output_type": "execute_result",
          "execution_count": 12,
          "data": {
            "text/plain": "PassengerId      0\nSurvived         0\nPclass           0\nName             0\nSex              0\nAge              0\nSibSp            0\nParch            0\nTicket           0\nFare             0\nCabin          687\nEmbarked         2\ndtype: int64"
          },
          "metadata": {}
        }
      ],
      "execution_count": 12,
      "metadata": {
        "gather": {
          "logged": 1716893369852
        }
      },
      "id": "1adc3e55"
    },
    {
      "cell_type": "code",
      "source": [
        "df['Cabin'].unique()"
      ],
      "outputs": [
        {
          "output_type": "execute_result",
          "execution_count": 13,
          "data": {
            "text/plain": "array([nan, 'C85', 'C123', 'E46', 'G6', 'C103', 'D56', 'A6',\n       'C23 C25 C27', 'B78', 'D33', 'B30', 'C52', 'B28', 'C83', 'F33',\n       'F G73', 'E31', 'A5', 'D10 D12', 'D26', 'C110', 'B58 B60', 'E101',\n       'F E69', 'D47', 'B86', 'F2', 'C2', 'E33', 'B19', 'A7', 'C49', 'F4',\n       'A32', 'B4', 'B80', 'A31', 'D36', 'D15', 'C93', 'C78', 'D35',\n       'C87', 'B77', 'E67', 'B94', 'C125', 'C99', 'C118', 'D7', 'A19',\n       'B49', 'D', 'C22 C26', 'C106', 'C65', 'E36', 'C54',\n       'B57 B59 B63 B66', 'C7', 'E34', 'C32', 'B18', 'C124', 'C91', 'E40',\n       'T', 'C128', 'D37', 'B35', 'E50', 'C82', 'B96 B98', 'E10', 'E44',\n       'A34', 'C104', 'C111', 'C92', 'E38', 'D21', 'E12', 'E63', 'A14',\n       'B37', 'C30', 'D20', 'B79', 'E25', 'D46', 'B73', 'C95', 'B38',\n       'B39', 'B22', 'C86', 'C70', 'A16', 'C101', 'C68', 'A10', 'E68',\n       'B41', 'A20', 'D19', 'D50', 'D9', 'A23', 'B50', 'A26', 'D48',\n       'E58', 'C126', 'B71', 'B51 B53 B55', 'D49', 'B5', 'B20', 'F G63',\n       'C62 C64', 'E24', 'C90', 'C45', 'E8', 'B101', 'D45', 'C46', 'D30',\n       'E121', 'D11', 'E77', 'F38', 'B3', 'D6', 'B82 B84', 'D17', 'A36',\n       'B102', 'B69', 'E49', 'C47', 'D28', 'E17', 'A24', 'C50', 'B42',\n       'C148'], dtype=object)"
          },
          "metadata": {}
        }
      ],
      "execution_count": 13,
      "metadata": {
        "gather": {
          "logged": 1716893373861
        }
      },
      "id": "8645db7d"
    },
    {
      "cell_type": "code",
      "source": [
        "df['Loc']= df['Cabin'].apply(lambda x: x[0] if pd.notnull(x) else 'X')"
      ],
      "outputs": [],
      "execution_count": 14,
      "metadata": {
        "gather": {
          "logged": 1716893376728
        }
      },
      "id": "0980ec05"
    },
    {
      "cell_type": "code",
      "source": [
        "df[['Loc', 'Survived']].groupby('Loc')['Survived'].mean().plot(kind= 'bar')"
      ],
      "outputs": [
        {
          "output_type": "execute_result",
          "execution_count": 15,
          "data": {
            "text/plain": "<Axes: xlabel='Loc'>"
          },
          "metadata": {}
        },
        {
          "output_type": "display_data",
          "data": {
            "text/plain": "<Figure size 640x480 with 1 Axes>",
            "image/png": "[encoded data removed]"
          },
          "metadata": {}
        }
      ],
      "execution_count": 15,
      "metadata": {
        "gather": {
          "logged": 1716893381600
        }
      },
      "id": "7fc301d8"
    },
    {
      "cell_type": "code",
      "source": [
        "df.drop(['Cabin', 'Ticket'], axis=1, inplace=True)"
      ],
      "outputs": [],
      "execution_count": 16,
      "metadata": {
        "gather": {
          "logged": 1716893384559
        }
      },
      "id": "6179f351"
    },
    {
      "cell_type": "code",
      "source": [
        "df.loc[:,'GroupSize'] = 1 + df['SibSp'] + df['Parch']"
      ],
      "outputs": [],
      "execution_count": 17,
      "metadata": {
        "gather": {
          "logged": 1716893386377
        }
      },
      "id": "2312cc97"
    },
    {
      "cell_type": "code",
      "source": [
        "df['Embarked'] = df['Embarked'].fillna('S')"
      ],
      "outputs": [],
      "execution_count": 18,
      "metadata": {
        "gather": {
          "logged": 1716893388036
        }
      },
      "id": "c3c0e127"
    },
    {
      "cell_type": "code",
      "source": [
        "LABEL = 'Survived'\n",
        "columns_to_keep = ['Pclass', 'Sex','Age', 'Fare', 'Embared', 'Deck', 'GroupSize']\n",
        "columns_to_drop = ['Name','SibSp', 'Parch', 'Survived']\n",
        "df_train = df\n",
        "df = df_train.drop(['Name','SibSp', 'Parch', 'PassengerId'], axis=1)\n",
        "\n",
        "df.head(5)"
      ],
      "outputs": [
        {
          "output_type": "execute_result",
          "execution_count": 19,
          "data": {
            "text/plain": "   Survived  Pclass     Sex   Age     Fare Embarked Loc  GroupSize\n0         0       3    male  22.0   7.2500        S   X          2\n1         1       1  female  38.0  71.2833        C   C          2\n2         1       3  female  26.0   7.9250        S   X          1\n3         1       1  female  35.0  53.1000        S   C          2\n4         0       3    male  35.0   8.0500        S   X          1",
            "text/html": "<div>\n<style scoped>\n    .dataframe tbody tr th:only-of-type {\n        vertical-align: middle;\n    }\n\n    .dataframe tbody tr th {\n        vertical-align: top;\n    }\n\n    .dataframe thead th {\n        text-align: right;\n    }\n</style>\n<table border=\"1\" class=\"dataframe\">\n  <thead>\n    <tr style=\"text-align: right;\">\n      <th></th>\n      <th>Survived</th>\n      <th>Pclass</th>\n      <th>Sex</th>\n      <th>Age</th>\n      <th>Fare</th>\n      <th>Embarked</th>\n      <th>Loc</th>\n      <th>GroupSize</th>\n    </tr>\n  </thead>\n  <tbody>\n    <tr>\n      <th>0</th>\n      <td>0</td>\n      <td>3</td>\n      <td>male</td>\n      <td>22.0</td>\n      <td>7.2500</td>\n      <td>S</td>\n      <td>X</td>\n      <td>2</td>\n    </tr>\n    <tr>\n      <th>1</th>\n      <td>1</td>\n      <td>1</td>\n      <td>female</td>\n      <td>38.0</td>\n      <td>71.2833</td>\n      <td>C</td>\n      <td>C</td>\n      <td>2</td>\n    </tr>\n    <tr>\n      <th>2</th>\n      <td>1</td>\n      <td>3</td>\n      <td>female</td>\n      <td>26.0</td>\n      <td>7.9250</td>\n      <td>S</td>\n      <td>X</td>\n      <td>1</td>\n    </tr>\n    <tr>\n      <th>3</th>\n      <td>1</td>\n      <td>1</td>\n      <td>female</td>\n      <td>35.0</td>\n      <td>53.1000</td>\n      <td>S</td>\n      <td>C</td>\n      <td>2</td>\n    </tr>\n    <tr>\n      <th>4</th>\n      <td>0</td>\n      <td>3</td>\n      <td>male</td>\n      <td>35.0</td>\n      <td>8.0500</td>\n      <td>S</td>\n      <td>X</td>\n      <td>1</td>\n    </tr>\n  </tbody>\n</table>\n</div>"
          },
          "metadata": {}
        }
      ],
      "execution_count": 19,
      "metadata": {
        "gather": {
          "logged": 1716893389387
        }
      },
      "id": "27a368dd"
    },
    {
      "cell_type": "code",
      "source": [
        "df.head()"
      ],
      "outputs": [
        {
          "output_type": "execute_result",
          "execution_count": 20,
          "data": {
            "text/plain": "   Survived  Pclass     Sex   Age     Fare Embarked Loc  GroupSize\n0         0       3    male  22.0   7.2500        S   X          2\n1         1       1  female  38.0  71.2833        C   C          2\n2         1       3  female  26.0   7.9250        S   X          1\n3         1       1  female  35.0  53.1000        S   C          2\n4         0       3    male  35.0   8.0500        S   X          1",
            "text/html": "<div>\n<style scoped>\n    .dataframe tbody tr th:only-of-type {\n        vertical-align: middle;\n    }\n\n    .dataframe tbody tr th {\n        vertical-align: top;\n    }\n\n    .dataframe thead th {\n        text-align: right;\n    }\n</style>\n<table border=\"1\" class=\"dataframe\">\n  <thead>\n    <tr style=\"text-align: right;\">\n      <th></th>\n      <th>Survived</th>\n      <th>Pclass</th>\n      <th>Sex</th>\n      <th>Age</th>\n      <th>Fare</th>\n      <th>Embarked</th>\n      <th>Loc</th>\n      <th>GroupSize</th>\n    </tr>\n  </thead>\n  <tbody>\n    <tr>\n      <th>0</th>\n      <td>0</td>\n      <td>3</td>\n      <td>male</td>\n      <td>22.0</td>\n      <td>7.2500</td>\n      <td>S</td>\n      <td>X</td>\n      <td>2</td>\n    </tr>\n    <tr>\n      <th>1</th>\n      <td>1</td>\n      <td>1</td>\n      <td>female</td>\n      <td>38.0</td>\n      <td>71.2833</td>\n      <td>C</td>\n      <td>C</td>\n      <td>2</td>\n    </tr>\n    <tr>\n      <th>2</th>\n      <td>1</td>\n      <td>3</td>\n      <td>female</td>\n      <td>26.0</td>\n      <td>7.9250</td>\n      <td>S</td>\n      <td>X</td>\n      <td>1</td>\n    </tr>\n    <tr>\n      <th>3</th>\n      <td>1</td>\n      <td>1</td>\n      <td>female</td>\n      <td>35.0</td>\n      <td>53.1000</td>\n      <td>S</td>\n      <td>C</td>\n      <td>2</td>\n    </tr>\n    <tr>\n      <th>4</th>\n      <td>0</td>\n      <td>3</td>\n      <td>male</td>\n      <td>35.0</td>\n      <td>8.0500</td>\n      <td>S</td>\n      <td>X</td>\n      <td>1</td>\n    </tr>\n  </tbody>\n</table>\n</div>"
          },
          "metadata": {}
        }
      ],
      "execution_count": 20,
      "metadata": {
        "gather": {
          "logged": 1716893393584
        }
      },
      "id": "ea7c0b81"
    },
    {
      "cell_type": "code",
      "source": [
        "df.shape"
      ],
      "outputs": [
        {
          "output_type": "execute_result",
          "execution_count": 21,
          "data": {
            "text/plain": "(891, 8)"
          },
          "metadata": {}
        }
      ],
      "execution_count": 21,
      "metadata": {
        "gather": {
          "logged": 1716893396073
        }
      },
      "id": "724c83f5"
    },
    {
      "cell_type": "code",
      "source": [
        "df.isnull().sum()"
      ],
      "outputs": [
        {
          "output_type": "execute_result",
          "execution_count": 22,
          "data": {
            "text/plain": "Survived     0\nPclass       0\nSex          0\nAge          0\nFare         0\nEmbarked     0\nLoc          0\nGroupSize    0\ndtype: int64"
          },
          "metadata": {}
        }
      ],
      "execution_count": 22,
      "metadata": {
        "gather": {
          "logged": 1716893398696
        }
      },
      "id": "bef445a2"
    },
    {
      "cell_type": "code",
      "source": [
        "import os\n",
        "script_folder = os.path.join(os.getcwd(), \"clean_training_data\")\n",
        "print(script_folder)\n",
        "os.makedirs(script_folder, exist_ok=True)"
      ],
      "outputs": [
        {
          "output_type": "stream",
          "name": "stdout",
          "text": "/mnt/batch/tasks/shared/LS_root/mounts/clusters/amldevcomputev2/code/Users/270351/Azure-Machine-Learning-Engineering-SDKV2/Models/clean_training_data\n"
        }
      ],
      "execution_count": 23,
      "metadata": {
        "gather": {
          "logged": 1716893403409
        }
      },
      "id": "6813cbed"
    },
    {
      "cell_type": "code",
      "source": [
        "df.to_csv('./clean_training_data/titanic.csv')\n",
        "df.head(2)"
      ],
      "outputs": [
        {
          "output_type": "execute_result",
          "execution_count": 24,
          "data": {
            "text/plain": "   Survived  Pclass     Sex   Age     Fare Embarked Loc  GroupSize\n0         0       3    male  22.0   7.2500        S   X          2\n1         1       1  female  38.0  71.2833        C   C          2",
            "text/html": "<div>\n<style scoped>\n    .dataframe tbody tr th:only-of-type {\n        vertical-align: middle;\n    }\n\n    .dataframe tbody tr th {\n        vertical-align: top;\n    }\n\n    .dataframe thead th {\n        text-align: right;\n    }\n</style>\n<table border=\"1\" class=\"dataframe\">\n  <thead>\n    <tr style=\"text-align: right;\">\n      <th></th>\n      <th>Survived</th>\n      <th>Pclass</th>\n      <th>Sex</th>\n      <th>Age</th>\n      <th>Fare</th>\n      <th>Embarked</th>\n      <th>Loc</th>\n      <th>GroupSize</th>\n    </tr>\n  </thead>\n  <tbody>\n    <tr>\n      <th>0</th>\n      <td>0</td>\n      <td>3</td>\n      <td>male</td>\n      <td>22.0</td>\n      <td>7.2500</td>\n      <td>S</td>\n      <td>X</td>\n      <td>2</td>\n    </tr>\n    <tr>\n      <th>1</th>\n      <td>1</td>\n      <td>1</td>\n      <td>female</td>\n      <td>38.0</td>\n      <td>71.2833</td>\n      <td>C</td>\n      <td>C</td>\n      <td>2</td>\n    </tr>\n  </tbody>\n</table>\n</div>"
          },
          "metadata": {}
        }
      ],
      "execution_count": 24,
      "metadata": {
        "gather": {
          "logged": 1716893409830
        }
      },
      "id": "a19ed778"
    },
    {
      "cell_type": "code",
      "source": [
        "!pip install scikit-learn"
      ],
      "outputs": [],
      "execution_count": null,
      "metadata": {},
      "id": "cc96a046"
    },
    {
      "cell_type": "code",
      "source": [
        "# Separate features and labels\n",
        "\n",
        "import os\n",
        "import argparse\n",
        "import pandas as pd\n",
        "from sklearn.model_selection import train_test_split\n",
        "import logging\n",
        "import mlflow\n",
        "import argparse\n",
        "from sklearn.ensemble import GradientBoostingClassifier\n",
        "from sklearn.metrics import classification_report\n",
        "import os\n",
        "import pandas as pd\n",
        "import mlflow\n",
        "\n",
        "import sys\n",
        "import argparse\n",
        "import joblib\n",
        "import numpy as np\n",
        "from sklearn.compose import ColumnTransformer\n",
        "from sklearn.impute import SimpleImputer\n",
        "from sklearn.linear_model import LogisticRegression\n",
        "from sklearn.pipeline import Pipeline\n",
        "from sklearn.preprocessing import OneHotEncoder, StandardScaler\n",
        "from sklearn.metrics import roc_auc_score,roc_curve\n",
        "# Calculate model performance metrics\n",
        "from sklearn.metrics import confusion_matrix\n",
        "import matplotlib.pyplot as plt\n",
        "\n",
        "\n",
        "# Calculate model performance metrics\n",
        "from sklearn.metrics import confusion_matrix\n",
        "\n",
        "import matplotlib.pyplot as plt\n",
        "\n",
        "# Start Logging\n",
        "experiment_name = 'titanic_local_compute'\n",
        "mlflow.set_experiment(experiment_name)\n",
        "# enable autologging\n",
        "mlflow.sklearn.autolog()\n",
        "mlflow.autolog()\n",
        "# mlflow.autolog(log_models=False)\n",
        "mlflow.start_run()\n",
        "\n",
        "def buildpreprocessorpipeline(X_raw):\n",
        "    categorical_features = X_raw.select_dtypes(include=['object']).columns\n",
        "    numeric_features = X_raw.select_dtypes(include=['float','int64']).columns\n",
        "\n",
        "    categorical_transformer = Pipeline(steps=[('imputer', SimpleImputer(strategy='constant', fill_value=\"missing\")),\n",
        "                                              ('onehotencoder', OneHotEncoder(categories='auto', sparse=False, handle_unknown='ignore'))])\n",
        "    numeric_transformer = Pipeline(steps=[('scaler', StandardScaler())])\n",
        "    \n",
        "    preprocessor = ColumnTransformer(\n",
        "        transformers=[\n",
        "            ('numeric', numeric_transformer, numeric_features),\n",
        "            ('categorical', categorical_transformer, categorical_features)\n",
        "        ], remainder=\"drop\")\n",
        "    \n",
        "    return preprocessor\n",
        "\n",
        "def model_train(LABEL, df):  \n",
        "    y_raw = df[LABEL]\n",
        "    X_raw = df.drop([LABEL], axis=1)   \n",
        "    # Train test split\n",
        "    X_train, X_test, y_train, y_test = train_test_split(X_raw, y_raw, test_size=0.3, random_state=0)\n",
        "    \n",
        "    lg = LogisticRegression(penalty='l2', C=1.0, solver='liblinear')\n",
        "    preprocessor = buildpreprocessorpipeline(X_train)\n",
        "    \n",
        "    #estimator instance\n",
        "    clf = Pipeline(steps=[('preprocessor', preprocessor),\n",
        "                               ('regressor', lg)])\n",
        "    model = clf.fit(X_train, y_train)      \n",
        "    # calculate AUC\n",
        "    y_scores = model.predict_proba(X_test)\n",
        "    auc = roc_auc_score(y_test,y_scores[:,1])\n",
        "    print('AUC: ' + str(auc))\n",
        "    mlflow.log_metric(\"AUC:\", auc)\n",
        "    \n",
        "    # calculate test accuracy\n",
        "    y_hat = model.predict(X_test)\n",
        "    acc = np.average(y_hat == y_test)\n",
        "    print('Accuracy:', acc)\n",
        "    mlflow.log_metric(\"Accuracy:\", acc)\n",
        "    # plot ROC curve\n",
        "    fpr, tpr, thresholds = roc_curve(y_test, y_scores[:,1])\n",
        "    fig = plt.figure(figsize=(6, 4))\n",
        "    # Plot the diagonal 50% line\n",
        "    plt.plot([0, 1], [0, 1], 'k--')\n",
        "    # Plot the FPR and TPR achieved by our model\n",
        "    plt.plot(fpr, tpr)\n",
        "    plt.xlabel('False Positive Rate')\n",
        "    plt.ylabel('True Positive Rate')\n",
        "    plt.title('ROC Curve')\n",
        "    plt.show()\n",
        "    # plot confusion matrix\n",
        "    # Generate confusion matrix\n",
        "    cmatrix = confusion_matrix(y_test, y_hat)\n",
        "    cmatrix_json = {\n",
        "        \"schema_type\": \"confusion_matrix\",\n",
        "           \"schema_version\": \"v1\",\n",
        "           \"data\": {\n",
        "               \"class_labels\": [\"0\", \"1\"],\n",
        "               \"matrix\": [\n",
        "                   [int(x) for x in cmatrix[0]],\n",
        "                   [int(x) for x in cmatrix[1]]\n",
        "               ]\n",
        "           }\n",
        "    }\n",
        "    return model, auc, acc\n",
        "    # Save the trained model\n",
        "    \n",
        "    \n",
        "def main():\n",
        "\n",
        "    df = pd.read_csv('./clean_training_data/titanic.csv')\n",
        "    mlflow.log_metric(\"num_samples\", df.shape[0])\n",
        "    mlflow.log_metric(\"num_features\", df.shape[1] - 1)\n",
        "\n",
        "    model, auc, acc = model_train('Survived', df)\n",
        "    \n",
        "    os.makedirs('outputs', exist_ok=True)\n",
        "\n",
        "    model_file = os.path.join('outputs', 'titanic_model.pkl')\n",
        "    joblib.dump(value=model, filename=model_file)\n",
        "    \n",
        "#    mlflow.sklearn.log_model(model,model_file)\n",
        "    # Register the model\n",
        "     # Stop Logging\n",
        "    mlflow.end_run()\n",
        "\n",
        "\n",
        "if __name__ == \"__main__\":\n",
        "    main()"
      ],
      "outputs": [
        {
          "output_type": "stream",
          "name": "stderr",
          "text": "2024/05/28 10:50:45 INFO mlflow.tracking.fluent: Experiment with name 'titanic_local_compute' does not exist. Creating a new experiment.\n2024/05/28 10:50:49 WARNING mlflow.utils: Truncated the value of the key `steps`. Truncated value: `[('preprocessor', ColumnTransformer(transformers=[('numeric',\n                                 Pipeline(steps=[('scaler', StandardScaler())]),\n                                 Index(['Unnamed: 0', 'Pclass', 'Age', 'Fare', 'GroupSize'], dtype='object')),\n                                ('categorical',\n                                 Pipeline(steps=[('imputer',\n                                                  SimpleImputer(fill_value='missing',\n                                                ...`\n2024/05/28 10:50:49 WARNING mlflow.utils: Truncated the value of the key `preprocessor`. Truncated value: `ColumnTransformer(transformers=[('numeric',\n                                 Pipeline(steps=[('scaler', StandardScaler())]),\n                                 Index(['Unnamed: 0', 'Pclass', 'Age', 'Fare', 'GroupSize'], dtype='object')),\n                                ('categorical',\n                                 Pipeline(steps=[('imputer',\n                                                  SimpleImputer(fill_value='missing',\n                                                                st...`\n2024/05/28 10:50:49 WARNING mlflow.utils.autologging_utils: MLflow autologging encountered a warning: \"/anaconda/envs/azureml_py310_sdkv2/lib/python3.10/site-packages/mlflow/data/pandas_dataset.py:116: UserWarning: Hint: Inferred schema contains integer column(s). Integer columns in Python cannot represent missing values. If your input data contains missing values at inference time, it will be encoded as floats and will cause a schema enforcement error. The best way to avoid this problem is to infer the model schema based on a realistic data sample (training dataset) that includes missing values. Alternatively, you can declare integer columns as doubles (float64) whenever these columns may have missing values. See `Handling Integers With Missing Values <https://www.mlflow.org/docs/latest/models.html#handling-integers-with-missing-values>`_ for more details.\"\n/anaconda/envs/azureml_py310_sdkv2/lib/python3.10/site-packages/sklearn/preprocessing/_encoders.py:868: FutureWarning: `sparse` was renamed to `sparse_output` in version 1.2 and will be removed in 1.4. `sparse_output` is ignored unless you leave `sparse` to its default value.\n  warnings.warn(\n2024/05/28 10:50:51 WARNING mlflow.utils.autologging_utils: MLflow autologging encountered a warning: \"/anaconda/envs/azureml_py310_sdkv2/lib/python3.10/site-packages/mlflow/models/signature.py:144: UserWarning: Hint: Inferred schema contains integer column(s). Integer columns in Python cannot represent missing values. If your input data contains missing values at inference time, it will be encoded as floats and will cause a schema enforcement error. The best way to avoid this problem is to infer the model schema based on a realistic data sample (training dataset) that includes missing values. Alternatively, you can declare integer columns as doubles (float64) whenever these columns may have missing values. See `Handling Integers With Missing Values <https://www.mlflow.org/docs/latest/models.html#handling-integers-with-missing-values>`_ for more details.\"\n2024/05/28 10:50:55 WARNING mlflow.utils.autologging_utils: MLflow autologging encountered a warning: \"/anaconda/envs/azureml_py310_sdkv2/lib/python3.10/site-packages/_distutils_hack/__init__.py:33: UserWarning: Setuptools is replacing distutils.\"\n2024/05/28 10:51:08 WARNING mlflow.utils.autologging_utils: MLflow autologging encountered a warning: \"/anaconda/envs/azureml_py310_sdkv2/lib/python3.10/site-packages/mlflow/data/pandas_dataset.py:116: UserWarning: Hint: Inferred schema contains integer column(s). Integer columns in Python cannot represent missing values. If your input data contains missing values at inference time, it will be encoded as floats and will cause a schema enforcement error. The best way to avoid this problem is to infer the model schema based on a realistic data sample (training dataset) that includes missing values. Alternatively, you can declare integer columns as doubles (float64) whenever these columns may have missing values. See `Handling Integers With Missing Values <https://www.mlflow.org/docs/latest/models.html#handling-integers-with-missing-values>`_ for more details.\"\n2024/05/28 10:51:08 WARNING mlflow.sklearn: Failed to log evaluation dataset information to MLflow Tracking. Reason: BAD_REQUEST: Response: {'Error': {'Code': 'UserError', 'Severity': None, 'Message': 'Cannot log the same dataset with different context', 'MessageFormat': None, 'MessageParameters': None, 'ReferenceCode': None, 'DetailsUri': None, 'Target': None, 'Details': [], 'InnerError': None, 'DebugInfo': None, 'AdditionalInfo': None}, 'Correlation': {'operation': '41888d94617b4086db0a464190aa66e9', 'request': '4cf9752922b5700f'}, 'Environment': 'australiasoutheast', 'Location': 'australiasoutheast', 'Time': '2024-05-28T10:51:08.8965491+00:00', 'ComponentName': 'mlflow', 'statusCode': 400, 'error_code': 'BAD_REQUEST'}\n2024/05/28 10:51:09 WARNING mlflow.utils.autologging_utils: MLflow autologging encountered a warning: \"/anaconda/envs/azureml_py310_sdkv2/lib/python3.10/site-packages/mlflow/data/pandas_dataset.py:116: UserWarning: Hint: Inferred schema contains integer column(s). Integer columns in Python cannot represent missing values. If your input data contains missing values at inference time, it will be encoded as floats and will cause a schema enforcement error. The best way to avoid this problem is to infer the model schema based on a realistic data sample (training dataset) that includes missing values. Alternatively, you can declare integer columns as doubles (float64) whenever these columns may have missing values. See `Handling Integers With Missing Values <https://www.mlflow.org/docs/latest/models.html#handling-integers-with-missing-values>`_ for more details.\"\n2024/05/28 10:51:09 WARNING mlflow.sklearn: Failed to log evaluation dataset information to MLflow Tracking. Reason: BAD_REQUEST: Response: {'Error': {'Code': 'UserError', 'Severity': None, 'Message': 'Cannot log the same dataset with different context', 'MessageFormat': None, 'MessageParameters': None, 'ReferenceCode': None, 'DetailsUri': None, 'Target': None, 'Details': [], 'InnerError': None, 'DebugInfo': None, 'AdditionalInfo': None}, 'Correlation': {'operation': '11d5c641effc0101ba27ff99ddf6cfb0', 'request': 'b6a7a617558871ae'}, 'Environment': 'australiasoutheast', 'Location': 'australiasoutheast', 'Time': '2024-05-28T10:51:09.3988926+00:00', 'ComponentName': 'mlflow', 'statusCode': 400, 'error_code': 'BAD_REQUEST'}\n"
        },
        {
          "output_type": "stream",
          "name": "stdout",
          "text": "AUC: 0.8521428571428572\nAccuracy: 0.8059701492537313\n"
        },
        {
          "output_type": "display_data",
          "data": {
            "text/plain": "<Figure size 600x400 with 1 Axes>",
            "image/png": "[encoded data removed]"
          },
          "metadata": {}
        }
      ],
      "execution_count": 25,
      "metadata": {
        "gather": {
          "logged": 1716893470760
        }
      },
      "id": "e9a3ddd3"
    },
    {
      "cell_type": "code",
      "source": [
        "mlflow.end_run()"
      ],
      "outputs": [],
      "execution_count": 26,
      "metadata": {
        "gather": {
          "logged": 1716893518383
        }
      },
      "id": "e211179f"
    },
    {
      "cell_type": "code",
      "source": [],
      "outputs": [],
      "execution_count": null,
      "metadata": {},
      "id": "87cff0a1"
    }
  ],
  "metadata": {
    "kernelspec": {
      "name": "python310-sdkv2",
      "language": "python",
      "display_name": "Python 3.10 - SDK v2"
    },
    "language_info": {
      "name": "python",
      "version": "3.10.11",
      "mimetype": "text/x-python",
      "codemirror_mode": {
        "name": "ipython",
        "version": 3
      },
      "pygments_lexer": "ipython3",
      "nbconvert_exporter": "python",
      "file_extension": ".py"
    },
    "microsoft": {
      "ms_spell_check": {
        "ms_spell_check_language": "en"
      }
    },
    "kernel_info": {
      "name": "python310-sdkv2"
    },
    "nteract": {
      "version": "nteract-front-end@1.0.0"
    }
  },
  "nbformat": 4,
  "nbformat_minor": 5
}