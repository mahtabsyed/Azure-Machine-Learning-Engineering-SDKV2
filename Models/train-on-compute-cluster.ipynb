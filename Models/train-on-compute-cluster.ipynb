{
  "cells": [
    {
      "cell_type": "markdown",
      "id": "caa8b650",
      "metadata": {},
      "source": [
        "## To learn more about AML pipelines and remote jobs please refer to https://github.com/Azure/azureml-examples"
      ]
    },
    {
      "cell_type": "markdown",
      "id": "1e99cc20",
      "metadata": {},
      "source": [
        "## This notebook was test using Python 3.8 - AzureML kernel"
      ]
    },
    {
      "cell_type": "code",
      "execution_count": null,
      "id": "e9e0e805",
      "metadata": {},
      "outputs": [],
      "source": [
        "%pip install azure-ai-ml"
      ]
    },
    {
      "cell_type": "code",
      "execution_count": 1,
      "id": "f01e73ea",
      "metadata": {
        "gather": {
          "logged": 1717306119256
        }
      },
      "outputs": [],
      "source": [
        "import azure.ai.ml "
      ]
    },
    {
      "cell_type": "code",
      "execution_count": 2,
      "id": "316186c8",
      "metadata": {
        "gather": {
          "logged": 1717306122081
        }
      },
      "outputs": [],
      "source": [
        "# import required libraries\n",
        "from azure.ai.ml import MLClient\n",
        "from azure.identity import DefaultAzureCredential\n",
        "from azure.ai.ml import command, Input\n",
        "from azure.ai.ml.entities import (\n",
        "    AzureBlobDatastore,\n",
        "    AzureFileDatastore,\n",
        "    AzureDataLakeGen1Datastore,\n",
        "    AzureDataLakeGen2Datastore,\n",
        ")\n",
        "from azure.ai.ml.entities import Environment"
      ]
    },
    {
      "cell_type": "code",
      "execution_count": 3,
      "id": "66bc6a15",
      "metadata": {
        "gather": {
          "logged": 1717306127115
        }
      },
      "outputs": [
        {
          "name": "stderr",
          "output_type": "stream",
          "text": [
            "Found the config file in: /mnt/batch/tasks/shared/LS_root/mounts/clusters/amldevcomputev2/code/Users/270351/Azure-Machine-Learning-Engineering-SDKV2/config.json\n"
          ]
        },
        {
          "data": {
            "text/plain": [
              "MLClient(credential=<azure.identity._credentials.default.DefaultAzureCredential object at 0x7fd5acc2e830>,\n",
              "         subscription_id=d9304a62-bdd8-46df-bf0c-107ccc0e8d12,\n",
              "         resource_group_name=amls-dev-rg,\n",
              "         workspace_name=amls-dev)"
            ]
          },
          "execution_count": 3,
          "metadata": {},
          "output_type": "execute_result"
        }
      ],
      "source": [
        "# get a handle to the workspace\n",
        "ml_client = MLClient.from_config(credential=DefaultAzureCredential(), path=\"../Azure-Machine-Learning-Engineering-SDKV2/\")\n",
        "ml_client"
      ]
    },
    {
      "cell_type": "code",
      "execution_count": 4,
      "id": "e22c0e9e",
      "metadata": {
        "gather": {
          "logged": 1717306153591
        }
      },
      "outputs": [
        {
          "name": "stdout",
          "output_type": "stream",
          "text": [
            "You already have a cluster named cpu-cluster, we'll reuse it as is.\n",
            "AMLCompute with name cpu-cluster is created, the compute size is STANDARD_DS3_v2\n"
          ]
        }
      ],
      "source": [
        "from azure.ai.ml.entities import AmlCompute\n",
        "\n",
        "cpu_compute_target = \"cpu-cluster\"\n",
        "\n",
        "try:\n",
        "    # let's see if the compute target already exists\n",
        "    cpu_cluster = ml_client.compute.get(cpu_compute_target)\n",
        "    print(\n",
        "        f\"You already have a cluster named {cpu_compute_target}, we'll reuse it as is.\"\n",
        "    )\n",
        "\n",
        "except Exception:\n",
        "    print(\"Creating a new cpu compute target...\")\n",
        "\n",
        "    # Let's create the Azure ML compute object with the intended parameters\n",
        "    cpu_cluster = AmlCompute(\n",
        "        # Name assigned to the compute cluster\n",
        "        name=\"cpu-cluster\",\n",
        "        # Azure ML Compute is the on-demand VM service\n",
        "        type=\"amlcompute\",\n",
        "        # VM Family\n",
        "        size=\"STANDARD_DS3_V2\",\n",
        "        # Minimum running nodes when there is no job running\n",
        "        min_instances=0,\n",
        "        # Nodes in cluster\n",
        "        max_instances=4,\n",
        "        # How many seconds will the node running after the job termination\n",
        "        idle_time_before_scale_down=180,\n",
        "        # Dedicated or LowPriority. The latter is cheaper but there is a chance of job termination\n",
        "        tier=\"Dedicated\",\n",
        "    )\n",
        "\n",
        "    # Now, we pass the object to MLClient's create_or_update method\n",
        "    cpu_cluster = ml_client.begin_create_or_update(cpu_cluster)\n",
        "\n",
        "print(\n",
        "    f\"AMLCompute with name {cpu_cluster.name} is created, the compute size is {cpu_cluster.size}\"\n",
        ")"
      ]
    },
    {
      "cell_type": "code",
      "execution_count": 61,
      "id": "e7c0ca46",
      "metadata": {
        "gather": {
          "logged": 1717310507934
        }
      },
      "outputs": [],
      "source": [
        "import os\n",
        "\n",
        "dependencies_dir = \"./dependencies\"\n",
        "os.makedirs(dependencies_dir, exist_ok=True)"
      ]
    },
    {
      "cell_type": "markdown",
      "id": "f5f5ce3a-abfe-4592-99e4-0fc7e64eaf9c",
      "metadata": {
        "nteract": {
          "transient": {
            "deleting": false
          }
        }
      },
      "source": [
        "#### <span style=\"color:green\">Note that mlflow== 1.26.1 was giving an error - cannot import name 'Dataset' from 'mlflow.entities' text. Replaced it with just mlflow </span> \n"
      ]
    },
    {
      "cell_type": "code",
      "execution_count": 64,
      "id": "fb5fc84c",
      "metadata": {},
      "outputs": [
        {
          "name": "stdout",
          "output_type": "stream",
          "text": [
            "Overwriting ./dependencies/conda.yml\n"
          ]
        }
      ],
      "source": [
        "%%writefile {dependencies_dir}/conda.yml\n",
        "name: model-env\n",
        "channels:\n",
        "  - conda-forge\n",
        "dependencies:\n",
        "  - python=3.8\n",
        "  - numpy=1.21.2\n",
        "  - pip=21.2.4\n",
        "  - scikit-learn=0.24.2\n",
        "  - scipy=1.7.1\n",
        "  - pandas>=1.1,<1.2\n",
        "  - pip:\n",
        "    - inference-schema[numpy-support]==1.3.0\n",
        "    - xlrd==2.0.1\n",
        "    - mlflow\n",
        "    - azureml-mlflow==1.42.0"
      ]
    },
    {
      "cell_type": "code",
      "execution_count": 65,
      "id": "e5078a03",
      "metadata": {
        "gather": {
          "logged": 1717310567290
        }
      },
      "outputs": [
        {
          "name": "stdout",
          "output_type": "stream",
          "text": [
            "Environment with name aml-scikit-learn is registered to workspace, the environment version is 2.0\n"
          ]
        }
      ],
      "source": [
        "from azure.ai.ml.entities import Environment\n",
        "\n",
        "custom_env_name = \"aml-scikit-learn\"\n",
        "\n",
        "pipeline_job_env = Environment(\n",
        "    name=custom_env_name,\n",
        "    description=\"Custom environment for titanic survival pipeline\",\n",
        "    tags={\"scikit-learn\": \"0.24.2\"},\n",
        "    conda_file=os.path.join(dependencies_dir, \"conda.yml\"),\n",
        "    image=\"mcr.microsoft.com/azureml/openmpi3.1.2-ubuntu18.04:latest\",\n",
        "    version=\"2.0\",\n",
        ")\n",
        "pipeline_job_env = ml_client.environments.create_or_update(pipeline_job_env)\n",
        "\n",
        "print(\n",
        "    f\"Environment with name {pipeline_job_env.name} is registered to workspace, the environment version is {pipeline_job_env.version}\"\n",
        ")"
      ]
    },
    {
      "cell_type": "code",
      "execution_count": 8,
      "id": "f57134ae",
      "metadata": {
        "gather": {
          "logged": 1717306996591
        }
      },
      "outputs": [],
      "source": [
        "titanic_dataset = ml_client.data.get(\"titanic-mltable-sdk\", version='1')"
      ]
    },
    {
      "cell_type": "code",
      "execution_count": 9,
      "id": "dff6899b-4e99-470d-bc12-2170b9e850c8",
      "metadata": {
        "gather": {
          "logged": 1717307002841
        },
        "jupyter": {
          "outputs_hidden": false,
          "source_hidden": false
        },
        "nteract": {
          "transient": {
            "deleting": false
          }
        }
      },
      "outputs": [
        {
          "data": {
            "text/plain": [
              "Data({'skip_validation': False, 'mltable_schema_url': None, 'referenced_uris': ['./titanic.csv'], 'type': 'mltable', 'is_anonymous': False, 'auto_increment_version': False, 'auto_delete_setting': None, 'name': 'titanic-mltable-sdk', 'description': 'description', 'tags': {}, 'properties': {}, 'print_as_yaml': True, 'id': '/subscriptions/d9304a62-bdd8-46df-bf0c-107ccc0e8d12/resourceGroups/amls-dev-rg/providers/Microsoft.MachineLearningServices/workspaces/amls-dev/data/titanic-mltable-sdk/versions/1', 'Resource__source_path': None, 'base_path': '/mnt/batch/tasks/shared/LS_root/mounts/clusters/amldevcomputev2/code/Users/270351/Azure-Machine-Learning-Engineering-SDKV2/Models', 'creation_context': <azure.ai.ml.entities._system_data.SystemData object at 0x7fd5c0c32890>, 'serialize': <msrest.serialization.Serializer object at 0x7fd5d82f9960>, 'version': '1', 'latest_version': None, 'path': 'azureml://subscriptions/d9304a62-bdd8-46df-bf0c-107ccc0e8d12/resourcegroups/amls-dev-rg/workspaces/amls-dev/datastores/workspaceblobstore/paths/LocalUpload/abca72d863ef5f34cab9e7bcdc01c74f/my_data/', 'datastore': None})"
            ]
          },
          "execution_count": 9,
          "metadata": {},
          "output_type": "execute_result"
        }
      ],
      "source": [
        "titanic_dataset"
      ]
    },
    {
      "cell_type": "code",
      "execution_count": 10,
      "id": "19c2795d",
      "metadata": {
        "gather": {
          "logged": 1717307009944
        }
      },
      "outputs": [
        {
          "name": "stdout",
          "output_type": "stream",
          "text": [
            "(891, 12)\n",
            "Index(['PassengerId', 'Survived', 'Pclass', 'Name', 'Sex', 'Age', 'SibSp',\n",
            "       'Parch', 'Ticket', 'Fare', 'Cabin', 'Embarked'],\n",
            "      dtype='object')\n"
          ]
        }
      ],
      "source": [
        "import pandas as pd\n",
        "file_name = os.path.join('./my_data', \"titanic.csv\") \n",
        "df = pd.read_csv(file_name)\n",
        "print(df.shape)\n",
        "print(df.columns)"
      ]
    },
    {
      "cell_type": "code",
      "execution_count": 11,
      "id": "bfac4a9c",
      "metadata": {
        "gather": {
          "logged": 1717307014962
        }
      },
      "outputs": [
        {
          "data": {
            "text/html": [
              "<div>\n",
              "<style scoped>\n",
              "    .dataframe tbody tr th:only-of-type {\n",
              "        vertical-align: middle;\n",
              "    }\n",
              "\n",
              "    .dataframe tbody tr th {\n",
              "        vertical-align: top;\n",
              "    }\n",
              "\n",
              "    .dataframe thead th {\n",
              "        text-align: right;\n",
              "    }\n",
              "</style>\n",
              "<table border=\"1\" class=\"dataframe\">\n",
              "  <thead>\n",
              "    <tr style=\"text-align: right;\">\n",
              "      <th></th>\n",
              "      <th>PassengerId</th>\n",
              "      <th>Survived</th>\n",
              "      <th>Pclass</th>\n",
              "      <th>Name</th>\n",
              "      <th>Sex</th>\n",
              "      <th>Age</th>\n",
              "      <th>SibSp</th>\n",
              "      <th>Parch</th>\n",
              "      <th>Ticket</th>\n",
              "      <th>Fare</th>\n",
              "      <th>Cabin</th>\n",
              "      <th>Embarked</th>\n",
              "    </tr>\n",
              "  </thead>\n",
              "  <tbody>\n",
              "    <tr>\n",
              "      <th>0</th>\n",
              "      <td>1</td>\n",
              "      <td>0</td>\n",
              "      <td>3</td>\n",
              "      <td>Braund, Mr. Owen Harris</td>\n",
              "      <td>male</td>\n",
              "      <td>22.0</td>\n",
              "      <td>1</td>\n",
              "      <td>0</td>\n",
              "      <td>A/5 21171</td>\n",
              "      <td>7.2500</td>\n",
              "      <td>NaN</td>\n",
              "      <td>S</td>\n",
              "    </tr>\n",
              "    <tr>\n",
              "      <th>1</th>\n",
              "      <td>2</td>\n",
              "      <td>1</td>\n",
              "      <td>1</td>\n",
              "      <td>Cumings, Mrs. John Bradley (Florence Briggs Th...</td>\n",
              "      <td>female</td>\n",
              "      <td>38.0</td>\n",
              "      <td>1</td>\n",
              "      <td>0</td>\n",
              "      <td>PC 17599</td>\n",
              "      <td>71.2833</td>\n",
              "      <td>C85</td>\n",
              "      <td>C</td>\n",
              "    </tr>\n",
              "    <tr>\n",
              "      <th>2</th>\n",
              "      <td>3</td>\n",
              "      <td>1</td>\n",
              "      <td>3</td>\n",
              "      <td>Heikkinen, Miss. Laina</td>\n",
              "      <td>female</td>\n",
              "      <td>26.0</td>\n",
              "      <td>0</td>\n",
              "      <td>0</td>\n",
              "      <td>STON/O2. 3101282</td>\n",
              "      <td>7.9250</td>\n",
              "      <td>NaN</td>\n",
              "      <td>S</td>\n",
              "    </tr>\n",
              "    <tr>\n",
              "      <th>3</th>\n",
              "      <td>4</td>\n",
              "      <td>1</td>\n",
              "      <td>1</td>\n",
              "      <td>Futrelle, Mrs. Jacques Heath (Lily May Peel)</td>\n",
              "      <td>female</td>\n",
              "      <td>35.0</td>\n",
              "      <td>1</td>\n",
              "      <td>0</td>\n",
              "      <td>113803</td>\n",
              "      <td>53.1000</td>\n",
              "      <td>C123</td>\n",
              "      <td>S</td>\n",
              "    </tr>\n",
              "    <tr>\n",
              "      <th>4</th>\n",
              "      <td>5</td>\n",
              "      <td>0</td>\n",
              "      <td>3</td>\n",
              "      <td>Allen, Mr. William Henry</td>\n",
              "      <td>male</td>\n",
              "      <td>35.0</td>\n",
              "      <td>0</td>\n",
              "      <td>0</td>\n",
              "      <td>373450</td>\n",
              "      <td>8.0500</td>\n",
              "      <td>NaN</td>\n",
              "      <td>S</td>\n",
              "    </tr>\n",
              "  </tbody>\n",
              "</table>\n",
              "</div>"
            ],
            "text/plain": [
              "   PassengerId  Survived  Pclass  \\\n",
              "0            1         0       3   \n",
              "1            2         1       1   \n",
              "2            3         1       3   \n",
              "3            4         1       1   \n",
              "4            5         0       3   \n",
              "\n",
              "                                                Name     Sex   Age  SibSp  \\\n",
              "0                            Braund, Mr. Owen Harris    male  22.0      1   \n",
              "1  Cumings, Mrs. John Bradley (Florence Briggs Th...  female  38.0      1   \n",
              "2                             Heikkinen, Miss. Laina  female  26.0      0   \n",
              "3       Futrelle, Mrs. Jacques Heath (Lily May Peel)  female  35.0      1   \n",
              "4                           Allen, Mr. William Henry    male  35.0      0   \n",
              "\n",
              "   Parch            Ticket     Fare Cabin Embarked  \n",
              "0      0         A/5 21171   7.2500   NaN        S  \n",
              "1      0          PC 17599  71.2833   C85        C  \n",
              "2      0  STON/O2. 3101282   7.9250   NaN        S  \n",
              "3      0            113803  53.1000  C123        S  \n",
              "4      0            373450   8.0500   NaN        S  "
            ]
          },
          "execution_count": 11,
          "metadata": {},
          "output_type": "execute_result"
        }
      ],
      "source": [
        "df.head(5)"
      ]
    },
    {
      "cell_type": "markdown",
      "id": "c42bad08",
      "metadata": {},
      "source": [
        "### Dataset field information\n",
        "\n",
        "- **PassengerId**: (remove) Should be removed from model as they are some sort of id.\n",
        "- **Pclass**: (keep) locates folks on ship *Pclass: 1st = Upper, 2nd = Middle, 3rd = Lower*\n",
        "- **Name**: (remove) maybe found useful if keeping the surname, but for basic model will remove\n",
        "- **Sex**: (keep) due to lifeboat priority, will likely be useful\n",
        "- **Age**: (keep)important due to lifeboat priority\n",
        "- **SibSp**: (keep) maybe useful, relatives will likely help others\n",
        "- **Parch**: (keep) maybe useful, relatives will likely help others\n",
        "- **Ticket**: (remove)\n",
        "- **Fare**: (remove covered by class)\n",
        "- **Cabin**: (keep) can be useful in relation of where the cabins are positioned on the ship\n",
        "- **Embarked**: (keep) unlikely to be useful because all listed embark happened before the disaster"
      ]
    },
    {
      "cell_type": "code",
      "execution_count": 12,
      "id": "b29eff24",
      "metadata": {
        "gather": {
          "logged": 1717307018233
        }
      },
      "outputs": [
        {
          "data": {
            "text/plain": [
              "PassengerId      0\n",
              "Survived         0\n",
              "Pclass           0\n",
              "Name             0\n",
              "Sex              0\n",
              "Age            177\n",
              "SibSp            0\n",
              "Parch            0\n",
              "Ticket           0\n",
              "Fare             0\n",
              "Cabin          687\n",
              "Embarked         2\n",
              "dtype: int64"
            ]
          },
          "execution_count": 12,
          "metadata": {},
          "output_type": "execute_result"
        }
      ],
      "source": [
        "df.isnull().sum()"
      ]
    },
    {
      "cell_type": "code",
      "execution_count": 13,
      "id": "e75ae118",
      "metadata": {
        "gather": {
          "logged": 1717307029195
        }
      },
      "outputs": [
        {
          "data": {
            "image/png": "[encoded data removed]",
            "text/plain": [
              "<Figure size 640x480 with 1 Axes>"
            ]
          },
          "metadata": {},
          "output_type": "display_data"
        }
      ],
      "source": [
        "columns_missing = df.isna().sum().where(lambda x : x > 0).dropna()\n",
        "\n",
        "ax = columns_missing \\\n",
        ".plot(kind='bar', alpha=0.9, title='Columns Missing Values', table=True)\n",
        "ax.xaxis.set_visible(False) # hide x axis labels\n",
        "\n",
        "for x in ax.patches:\n",
        "    ax.text(x.get_x()+.1, x.get_height()+5, \\\n",
        "            str(round((x.get_height()/df.shape[0])*100, 1))+'%')"
      ]
    },
    {
      "cell_type": "code",
      "execution_count": 14,
      "id": "6bc96f1c",
      "metadata": {
        "gather": {
          "logged": 1717307032904
        }
      },
      "outputs": [
        {
          "data": {
            "text/plain": [
              "Pclass  Sex   \n",
              "1       female     85\n",
              "        male      101\n",
              "2       female     74\n",
              "        male       99\n",
              "3       female    102\n",
              "        male      253\n",
              "Name: Age, dtype: int64\n",
              "Pclass  Sex   \n",
              "1       female    35.0\n",
              "        male      40.0\n",
              "2       female    28.0\n",
              "        male      30.0\n",
              "3       female    21.5\n",
              "        male      25.0\n",
              "Name: Age, dtype: float64"
            ]
          },
          "metadata": {},
          "output_type": "display_data"
        }
      ],
      "source": [
        "display(df.groupby(['Pclass', 'Sex'])['Age'].count())\n",
        "\n",
        "display(df.groupby(['Pclass', 'Sex'])['Age'].median())"
      ]
    },
    {
      "cell_type": "code",
      "execution_count": 16,
      "id": "a723c578",
      "metadata": {
        "gather": {
          "logged": 1717307077683
        }
      },
      "outputs": [],
      "source": [
        "# Giving error\n",
        "# df['Age'] = df.groupby(['Pclass', 'Sex'])['Age'].apply(lambda x: x.fillna(x.median()))\n",
        "# df.isnull().sum()"
      ]
    },
    {
      "cell_type": "code",
      "execution_count": 17,
      "id": "4e695ce4-31dc-4429-85bf-4c4ede0a560c",
      "metadata": {
        "gather": {
          "logged": 1717307093008
        },
        "jupyter": {
          "outputs_hidden": false,
          "source_hidden": false
        },
        "nteract": {
          "transient": {
            "deleting": false
          }
        }
      },
      "outputs": [
        {
          "data": {
            "text/plain": [
              "28.0"
            ]
          },
          "execution_count": 17,
          "metadata": {},
          "output_type": "execute_result"
        }
      ],
      "source": [
        "age_median = df[\"Age\"].median()\n",
        "age_median"
      ]
    },
    {
      "cell_type": "code",
      "execution_count": 18,
      "id": "3f529792-f602-4281-bdc3-a3d92910e0eb",
      "metadata": {
        "gather": {
          "logged": 1717307104242
        },
        "jupyter": {
          "outputs_hidden": false,
          "source_hidden": false
        },
        "nteract": {
          "transient": {
            "deleting": false
          }
        }
      },
      "outputs": [],
      "source": [
        "df['Age'].fillna(age_median, inplace=True)"
      ]
    },
    {
      "cell_type": "code",
      "execution_count": 19,
      "id": "c3a28261-6b76-4b67-8aae-d47544361512",
      "metadata": {
        "gather": {
          "logged": 1717307114786
        },
        "jupyter": {
          "outputs_hidden": false,
          "source_hidden": false
        },
        "nteract": {
          "transient": {
            "deleting": false
          }
        }
      },
      "outputs": [
        {
          "data": {
            "text/plain": [
              "PassengerId      0\n",
              "Survived         0\n",
              "Pclass           0\n",
              "Name             0\n",
              "Sex              0\n",
              "Age              0\n",
              "SibSp            0\n",
              "Parch            0\n",
              "Ticket           0\n",
              "Fare             0\n",
              "Cabin          687\n",
              "Embarked         2\n",
              "dtype: int64"
            ]
          },
          "execution_count": 19,
          "metadata": {},
          "output_type": "execute_result"
        }
      ],
      "source": [
        "df.isnull().sum()"
      ]
    },
    {
      "cell_type": "code",
      "execution_count": 20,
      "id": "d1dcf83c",
      "metadata": {
        "gather": {
          "logged": 1717307125414
        }
      },
      "outputs": [
        {
          "data": {
            "text/plain": [
              "array([nan, 'C85', 'C123', 'E46', 'G6', 'C103', 'D56', 'A6',\n",
              "       'C23 C25 C27', 'B78', 'D33', 'B30', 'C52', 'B28', 'C83', 'F33',\n",
              "       'F G73', 'E31', 'A5', 'D10 D12', 'D26', 'C110', 'B58 B60', 'E101',\n",
              "       'F E69', 'D47', 'B86', 'F2', 'C2', 'E33', 'B19', 'A7', 'C49', 'F4',\n",
              "       'A32', 'B4', 'B80', 'A31', 'D36', 'D15', 'C93', 'C78', 'D35',\n",
              "       'C87', 'B77', 'E67', 'B94', 'C125', 'C99', 'C118', 'D7', 'A19',\n",
              "       'B49', 'D', 'C22 C26', 'C106', 'C65', 'E36', 'C54',\n",
              "       'B57 B59 B63 B66', 'C7', 'E34', 'C32', 'B18', 'C124', 'C91', 'E40',\n",
              "       'T', 'C128', 'D37', 'B35', 'E50', 'C82', 'B96 B98', 'E10', 'E44',\n",
              "       'A34', 'C104', 'C111', 'C92', 'E38', 'D21', 'E12', 'E63', 'A14',\n",
              "       'B37', 'C30', 'D20', 'B79', 'E25', 'D46', 'B73', 'C95', 'B38',\n",
              "       'B39', 'B22', 'C86', 'C70', 'A16', 'C101', 'C68', 'A10', 'E68',\n",
              "       'B41', 'A20', 'D19', 'D50', 'D9', 'A23', 'B50', 'A26', 'D48',\n",
              "       'E58', 'C126', 'B71', 'B51 B53 B55', 'D49', 'B5', 'B20', 'F G63',\n",
              "       'C62 C64', 'E24', 'C90', 'C45', 'E8', 'B101', 'D45', 'C46', 'D30',\n",
              "       'E121', 'D11', 'E77', 'F38', 'B3', 'D6', 'B82 B84', 'D17', 'A36',\n",
              "       'B102', 'B69', 'E49', 'C47', 'D28', 'E17', 'A24', 'C50', 'B42',\n",
              "       'C148'], dtype=object)"
            ]
          },
          "execution_count": 20,
          "metadata": {},
          "output_type": "execute_result"
        }
      ],
      "source": [
        "df['Cabin'].unique()"
      ]
    },
    {
      "cell_type": "code",
      "execution_count": 21,
      "id": "730fe75d",
      "metadata": {
        "gather": {
          "logged": 1717307137500
        }
      },
      "outputs": [],
      "source": [
        "df['Loc']= df['Cabin'].apply(lambda x: x[0] if pd.notnull(x) else 'X')"
      ]
    },
    {
      "cell_type": "code",
      "execution_count": 22,
      "id": "5149ba51",
      "metadata": {
        "gather": {
          "logged": 1717307138891
        }
      },
      "outputs": [
        {
          "data": {
            "text/plain": [
              "<Axes: xlabel='Loc'>"
            ]
          },
          "execution_count": 22,
          "metadata": {},
          "output_type": "execute_result"
        },
        {
          "data": {
            "image/png": "[encoded data removed]",
            "text/plain": [
              "<Figure size 640x480 with 1 Axes>"
            ]
          },
          "metadata": {},
          "output_type": "display_data"
        }
      ],
      "source": [
        "df[['Loc', 'Survived']].groupby('Loc')['Survived'].mean().plot(kind= 'bar')"
      ]
    },
    {
      "cell_type": "code",
      "execution_count": 23,
      "id": "71e6bc13",
      "metadata": {
        "gather": {
          "logged": 1717307141118
        }
      },
      "outputs": [],
      "source": [
        "df.drop(['Cabin', 'Ticket'], axis=1, inplace=True)"
      ]
    },
    {
      "cell_type": "code",
      "execution_count": 24,
      "id": "344c8dad",
      "metadata": {
        "gather": {
          "logged": 1717307142457
        }
      },
      "outputs": [],
      "source": [
        "df.loc[:,'GroupSize'] = 1 + df['SibSp'] + df['Parch']"
      ]
    },
    {
      "cell_type": "code",
      "execution_count": 25,
      "id": "78433321",
      "metadata": {
        "gather": {
          "logged": 1717307143306
        }
      },
      "outputs": [],
      "source": [
        "df['Embarked'] = df['Embarked'].fillna('S')"
      ]
    },
    {
      "cell_type": "code",
      "execution_count": 26,
      "id": "4036cc3b",
      "metadata": {
        "gather": {
          "logged": 1717307144226
        }
      },
      "outputs": [
        {
          "data": {
            "text/html": [
              "<div>\n",
              "<style scoped>\n",
              "    .dataframe tbody tr th:only-of-type {\n",
              "        vertical-align: middle;\n",
              "    }\n",
              "\n",
              "    .dataframe tbody tr th {\n",
              "        vertical-align: top;\n",
              "    }\n",
              "\n",
              "    .dataframe thead th {\n",
              "        text-align: right;\n",
              "    }\n",
              "</style>\n",
              "<table border=\"1\" class=\"dataframe\">\n",
              "  <thead>\n",
              "    <tr style=\"text-align: right;\">\n",
              "      <th></th>\n",
              "      <th>Survived</th>\n",
              "      <th>Pclass</th>\n",
              "      <th>Sex</th>\n",
              "      <th>Age</th>\n",
              "      <th>Fare</th>\n",
              "      <th>Embarked</th>\n",
              "      <th>Loc</th>\n",
              "      <th>GroupSize</th>\n",
              "    </tr>\n",
              "  </thead>\n",
              "  <tbody>\n",
              "    <tr>\n",
              "      <th>0</th>\n",
              "      <td>0</td>\n",
              "      <td>3</td>\n",
              "      <td>male</td>\n",
              "      <td>22.0</td>\n",
              "      <td>7.2500</td>\n",
              "      <td>S</td>\n",
              "      <td>X</td>\n",
              "      <td>2</td>\n",
              "    </tr>\n",
              "    <tr>\n",
              "      <th>1</th>\n",
              "      <td>1</td>\n",
              "      <td>1</td>\n",
              "      <td>female</td>\n",
              "      <td>38.0</td>\n",
              "      <td>71.2833</td>\n",
              "      <td>C</td>\n",
              "      <td>C</td>\n",
              "      <td>2</td>\n",
              "    </tr>\n",
              "    <tr>\n",
              "      <th>2</th>\n",
              "      <td>1</td>\n",
              "      <td>3</td>\n",
              "      <td>female</td>\n",
              "      <td>26.0</td>\n",
              "      <td>7.9250</td>\n",
              "      <td>S</td>\n",
              "      <td>X</td>\n",
              "      <td>1</td>\n",
              "    </tr>\n",
              "    <tr>\n",
              "      <th>3</th>\n",
              "      <td>1</td>\n",
              "      <td>1</td>\n",
              "      <td>female</td>\n",
              "      <td>35.0</td>\n",
              "      <td>53.1000</td>\n",
              "      <td>S</td>\n",
              "      <td>C</td>\n",
              "      <td>2</td>\n",
              "    </tr>\n",
              "    <tr>\n",
              "      <th>4</th>\n",
              "      <td>0</td>\n",
              "      <td>3</td>\n",
              "      <td>male</td>\n",
              "      <td>35.0</td>\n",
              "      <td>8.0500</td>\n",
              "      <td>S</td>\n",
              "      <td>X</td>\n",
              "      <td>1</td>\n",
              "    </tr>\n",
              "  </tbody>\n",
              "</table>\n",
              "</div>"
            ],
            "text/plain": [
              "   Survived  Pclass     Sex   Age     Fare Embarked Loc  GroupSize\n",
              "0         0       3    male  22.0   7.2500        S   X          2\n",
              "1         1       1  female  38.0  71.2833        C   C          2\n",
              "2         1       3  female  26.0   7.9250        S   X          1\n",
              "3         1       1  female  35.0  53.1000        S   C          2\n",
              "4         0       3    male  35.0   8.0500        S   X          1"
            ]
          },
          "execution_count": 26,
          "metadata": {},
          "output_type": "execute_result"
        }
      ],
      "source": [
        "LABEL = 'Survived'\n",
        "columns_to_keep = ['Pclass', 'Sex','Age', 'Fare', 'Embared', 'Deck', 'GroupSize']\n",
        "columns_to_drop = ['Name','SibSp', 'Parch', 'Survived']\n",
        "df_train = df\n",
        "df = df_train.drop(['Name','SibSp', 'Parch', 'PassengerId'], axis=1)\n",
        "\n",
        "df.head(5)"
      ]
    },
    {
      "cell_type": "code",
      "execution_count": 27,
      "id": "da34d811",
      "metadata": {
        "gather": {
          "logged": 1717307157389
        }
      },
      "outputs": [
        {
          "name": "stdout",
          "output_type": "stream",
          "text": [
            "/mnt/batch/tasks/shared/LS_root/mounts/clusters/amldevcomputev2/code/Users/270351/Azure-Machine-Learning-Engineering-SDKV2/Models/clean_training_data\n"
          ]
        }
      ],
      "source": [
        "import os\n",
        "script_folder = os.path.join(os.getcwd(), \"clean_training_data\")\n",
        "print(script_folder)\n",
        "os.makedirs(script_folder, exist_ok=True)"
      ]
    },
    {
      "cell_type": "code",
      "execution_count": 28,
      "id": "0a7d6a4d",
      "metadata": {
        "gather": {
          "logged": 1717307162693
        }
      },
      "outputs": [
        {
          "data": {
            "text/html": [
              "<div>\n",
              "<style scoped>\n",
              "    .dataframe tbody tr th:only-of-type {\n",
              "        vertical-align: middle;\n",
              "    }\n",
              "\n",
              "    .dataframe tbody tr th {\n",
              "        vertical-align: top;\n",
              "    }\n",
              "\n",
              "    .dataframe thead th {\n",
              "        text-align: right;\n",
              "    }\n",
              "</style>\n",
              "<table border=\"1\" class=\"dataframe\">\n",
              "  <thead>\n",
              "    <tr style=\"text-align: right;\">\n",
              "      <th></th>\n",
              "      <th>Survived</th>\n",
              "      <th>Pclass</th>\n",
              "      <th>Sex</th>\n",
              "      <th>Age</th>\n",
              "      <th>Fare</th>\n",
              "      <th>Embarked</th>\n",
              "      <th>Loc</th>\n",
              "      <th>GroupSize</th>\n",
              "    </tr>\n",
              "  </thead>\n",
              "  <tbody>\n",
              "    <tr>\n",
              "      <th>0</th>\n",
              "      <td>0</td>\n",
              "      <td>3</td>\n",
              "      <td>male</td>\n",
              "      <td>22.0</td>\n",
              "      <td>7.2500</td>\n",
              "      <td>S</td>\n",
              "      <td>X</td>\n",
              "      <td>2</td>\n",
              "    </tr>\n",
              "    <tr>\n",
              "      <th>1</th>\n",
              "      <td>1</td>\n",
              "      <td>1</td>\n",
              "      <td>female</td>\n",
              "      <td>38.0</td>\n",
              "      <td>71.2833</td>\n",
              "      <td>C</td>\n",
              "      <td>C</td>\n",
              "      <td>2</td>\n",
              "    </tr>\n",
              "  </tbody>\n",
              "</table>\n",
              "</div>"
            ],
            "text/plain": [
              "   Survived  Pclass     Sex   Age     Fare Embarked Loc  GroupSize\n",
              "0         0       3    male  22.0   7.2500        S   X          2\n",
              "1         1       1  female  38.0  71.2833        C   C          2"
            ]
          },
          "execution_count": 28,
          "metadata": {},
          "output_type": "execute_result"
        }
      ],
      "source": [
        "# df.reset_index(drop=True)\n",
        "\n",
        "df.to_csv('./clean_training_data/titanic.csv',index=False)\n",
        "df.head(2)"
      ]
    },
    {
      "cell_type": "code",
      "execution_count": 29,
      "id": "42d95955",
      "metadata": {
        "gather": {
          "logged": 1717307204342
        }
      },
      "outputs": [
        {
          "name": "stderr",
          "output_type": "stream",
          "text": [
            "\u001b[32mUploading titanic.csv\u001b[32m (< 1 MB): 100%|██████████| 23.9k/23.9k [00:00<00:00, 524kB/s]\n",
            "\u001b[39m\n",
            "\n"
          ]
        },
        {
          "data": {
            "text/plain": [
              "Data({'skip_validation': False, 'mltable_schema_url': None, 'referenced_uris': None, 'type': 'uri_file', 'is_anonymous': False, 'auto_increment_version': False, 'auto_delete_setting': None, 'name': 'titanic-clean-data', 'description': 'description', 'tags': {}, 'properties': {}, 'print_as_yaml': True, 'id': '/subscriptions/d9304a62-bdd8-46df-bf0c-107ccc0e8d12/resourceGroups/amls-dev-rg/providers/Microsoft.MachineLearningServices/workspaces/amls-dev/data/titanic-clean-data/versions/9', 'Resource__source_path': None, 'base_path': '/mnt/batch/tasks/shared/LS_root/mounts/clusters/amldevcomputev2/code/Users/270351/Azure-Machine-Learning-Engineering-SDKV2/Models', 'creation_context': <azure.ai.ml.entities._system_data.SystemData object at 0x7fd5841d5d20>, 'serialize': <msrest.serialization.Serializer object at 0x7fd5841d6320>, 'version': '9', 'latest_version': None, 'path': 'azureml://subscriptions/d9304a62-bdd8-46df-bf0c-107ccc0e8d12/resourcegroups/amls-dev-rg/workspaces/amls-dev/datastores/workspaceblobstore/paths/LocalUpload/fcf1a62427ade2812f737d58e016c112/titanic.csv', 'datastore': None})"
            ]
          },
          "execution_count": 29,
          "metadata": {},
          "output_type": "execute_result"
        }
      ],
      "source": [
        "from azure.ai.ml.entities import Data\n",
        "from azure.ai.ml.constants import AssetTypes\n",
        "my_path = './clean_training_data/titanic.csv'\n",
        "\n",
        "my_data = Data(\n",
        "    path=my_path,\n",
        "    type=AssetTypes.URI_FILE,\n",
        "    description=\"description\",\n",
        "    name=\"titanic-clean-data\",\n",
        "    version='9'\n",
        ")\n",
        "\n",
        "ml_client.data.create_or_update(my_data)"
      ]
    },
    {
      "cell_type": "code",
      "execution_count": 30,
      "id": "b35182b1",
      "metadata": {
        "gather": {
          "logged": 1717307268425
        }
      },
      "outputs": [
        {
          "data": {
            "text/html": [
              "<div>\n",
              "<style scoped>\n",
              "    .dataframe tbody tr th:only-of-type {\n",
              "        vertical-align: middle;\n",
              "    }\n",
              "\n",
              "    .dataframe tbody tr th {\n",
              "        vertical-align: top;\n",
              "    }\n",
              "\n",
              "    .dataframe thead th {\n",
              "        text-align: right;\n",
              "    }\n",
              "</style>\n",
              "<table border=\"1\" class=\"dataframe\">\n",
              "  <thead>\n",
              "    <tr style=\"text-align: right;\">\n",
              "      <th></th>\n",
              "      <th>Pclass</th>\n",
              "      <th>Sex</th>\n",
              "      <th>Age</th>\n",
              "      <th>Fare</th>\n",
              "      <th>Embarked</th>\n",
              "      <th>Loc</th>\n",
              "      <th>GroupSize</th>\n",
              "    </tr>\n",
              "  </thead>\n",
              "  <tbody>\n",
              "    <tr>\n",
              "      <th>0</th>\n",
              "      <td>3</td>\n",
              "      <td>male</td>\n",
              "      <td>22.0</td>\n",
              "      <td>7.2500</td>\n",
              "      <td>S</td>\n",
              "      <td>X</td>\n",
              "      <td>2</td>\n",
              "    </tr>\n",
              "    <tr>\n",
              "      <th>1</th>\n",
              "      <td>1</td>\n",
              "      <td>female</td>\n",
              "      <td>38.0</td>\n",
              "      <td>71.2833</td>\n",
              "      <td>C</td>\n",
              "      <td>C</td>\n",
              "      <td>2</td>\n",
              "    </tr>\n",
              "  </tbody>\n",
              "</table>\n",
              "</div>"
            ],
            "text/plain": [
              "   Pclass     Sex   Age     Fare Embarked Loc  GroupSize\n",
              "0       3    male  22.0   7.2500        S   X          2\n",
              "1       1  female  38.0  71.2833        C   C          2"
            ]
          },
          "execution_count": 30,
          "metadata": {},
          "output_type": "execute_result"
        }
      ],
      "source": [
        "df = df.drop('Survived', axis=1)\n",
        "df.to_csv('./clean_training_data/test.csv')\n",
        "df.head(2)"
      ]
    },
    {
      "cell_type": "code",
      "execution_count": 31,
      "id": "d6ebd6cc",
      "metadata": {
        "gather": {
          "logged": 1717307278633
        }
      },
      "outputs": [
        {
          "name": "stderr",
          "output_type": "stream",
          "text": [
            "\r\u001b[32mUploading test.csv\u001b[32m (< 1 MB): 0.00B [00:00, ?B/s]\r\u001b[32mUploading test.csv\u001b[32m (< 1 MB): 100%|██████████| 25.6k/25.6k [00:00<00:00, 1.57MB/s]\n",
            "\u001b[39m\n",
            "\n"
          ]
        },
        {
          "data": {
            "text/plain": [
              "Data({'skip_validation': False, 'mltable_schema_url': None, 'referenced_uris': None, 'type': 'uri_file', 'is_anonymous': False, 'auto_increment_version': False, 'auto_delete_setting': None, 'name': 'titanic-test-data', 'description': 'description', 'tags': {}, 'properties': {}, 'print_as_yaml': True, 'id': '/subscriptions/d9304a62-bdd8-46df-bf0c-107ccc0e8d12/resourceGroups/amls-dev-rg/providers/Microsoft.MachineLearningServices/workspaces/amls-dev/data/titanic-test-data/versions/10', 'Resource__source_path': None, 'base_path': '/mnt/batch/tasks/shared/LS_root/mounts/clusters/amldevcomputev2/code/Users/270351/Azure-Machine-Learning-Engineering-SDKV2/Models', 'creation_context': <azure.ai.ml.entities._system_data.SystemData object at 0x7fd5acadb790>, 'serialize': <msrest.serialization.Serializer object at 0x7fd585e841c0>, 'version': '10', 'latest_version': None, 'path': 'azureml://subscriptions/d9304a62-bdd8-46df-bf0c-107ccc0e8d12/resourcegroups/amls-dev-rg/workspaces/amls-dev/datastores/workspaceblobstore/paths/LocalUpload/0d02a84630f0c116c1ad53a580bc20e5/test.csv', 'datastore': None})"
            ]
          },
          "execution_count": 31,
          "metadata": {},
          "output_type": "execute_result"
        }
      ],
      "source": [
        "from azure.ai.ml.entities import Data\n",
        "from azure.ai.ml.constants import AssetTypes\n",
        "my_path = './clean_training_data/test.csv'\n",
        "\n",
        "my_data = Data(\n",
        "    path=my_path,\n",
        "    type=AssetTypes.URI_FILE,\n",
        "    description=\"description\",\n",
        "    name=\"titanic-test-data\",\n",
        "    version='10'\n",
        ")\n",
        "\n",
        "ml_client.data.create_or_update(my_data)"
      ]
    },
    {
      "cell_type": "code",
      "execution_count": 32,
      "id": "40452db9",
      "metadata": {
        "gather": {
          "logged": 1717307333912
        }
      },
      "outputs": [],
      "source": [
        "import os\n",
        "\n",
        "data_prep_src_dir = \"./components/data_prep\"\n",
        "os.makedirs(data_prep_src_dir, exist_ok=True)"
      ]
    },
    {
      "cell_type": "code",
      "execution_count": 33,
      "id": "6d8f4afe",
      "metadata": {},
      "outputs": [
        {
          "name": "stdout",
          "output_type": "stream",
          "text": [
            "Overwriting ./components/data_prep/data_prep.py\n"
          ]
        }
      ],
      "source": [
        "%%writefile {data_prep_src_dir}/data_prep.py\n",
        "import os\n",
        "import argparse\n",
        "import pandas as pd\n",
        "from sklearn.model_selection import train_test_split\n",
        "import logging\n",
        "import mlflow\n",
        "\n",
        "def main():\n",
        "    \"\"\"Main function of the script.\"\"\"\n",
        "    # input and output arguments\n",
        "    parser = argparse.ArgumentParser()\n",
        "    parser.add_argument(\"--data\", type=str, help=\"path to input data\")\n",
        "    parser.add_argument(\"--test_train_ratio\", type=float, required=False, default=0.25)\n",
        "    parser.add_argument(\"--train_data\", type=str, help=\"path to train data\")\n",
        "    parser.add_argument(\"--test_data\", type=str, help=\"path to test data\")\n",
        "    args = parser.parse_args()\n",
        "\n",
        "    # Start Logging\n",
        "    mlflow.start_run()\n",
        "\n",
        "    print(\" \".join(f\"{k}={v}\" for k, v in vars(args).items()))\n",
        "    print(\"input data:\", args.data)\n",
        "    file_name = os.path.join(args.data)\n",
        "    titanic_df = pd.read_csv(file_name)\n",
        "    print(titanic_df.head(10))\n",
        "    \n",
        "    mlflow.log_metric(\"num_samples\", titanic_df.shape[0])\n",
        "    mlflow.log_metric(\"num_features\", titanic_df.shape[1] - 1)\n",
        "    \n",
        "    titanic_train_df, titanic_test_df = train_test_split(\n",
        "        titanic_df,\n",
        "        test_size=args.test_train_ratio,\n",
        "    )\n",
        "    # output paths are mounted as folder, therefore, we are adding a filename to the path\n",
        "    titanic_train_df.to_csv(os.path.join(args.train_data, \"data.csv\"), index=True)\n",
        "    titanic_test_df.to_csv(os.path.join(args.test_data, \"data.csv\"), index=True)\n",
        "    # Stop Logging\n",
        "    mlflow.end_run()\n",
        "\n",
        "if __name__ == \"__main__\":\n",
        "    main()"
      ]
    },
    {
      "cell_type": "code",
      "execution_count": 66,
      "id": "2c117556",
      "metadata": {
        "gather": {
          "logged": 1717310660639
        }
      },
      "outputs": [],
      "source": [
        "from azure.ai.ml import command\n",
        "from azure.ai.ml import Input, Output\n",
        "from azure.ai.ml.constants import AssetTypes\n",
        "data_prep_component = command(\n",
        "    name=\"data_prep_titanic_survival\",\n",
        "    display_name=\"Data preparation for training\",\n",
        "    description=\"reads a .csv input, split the input to train and test\",\n",
        "    inputs={\n",
        "        \"data\": Input(type=AssetTypes.URI_FILE),\n",
        "        \"test_train_ratio\": Input(type=\"number\"),\n",
        "    },\n",
        "    outputs=dict(\n",
        "        train_data=Output(type=\"uri_folder\", mode=\"rw_mount\"),\n",
        "        test_data=Output(type=\"uri_folder\", mode=\"rw_mount\"),\n",
        "    ),\n",
        "    # The source folder of the component\n",
        "    code=data_prep_src_dir,\n",
        "    command=\"\"\"python data_prep.py \\\n",
        "            --data ${{inputs.data}} --test_train_ratio ${{inputs.test_train_ratio}} \\\n",
        "            --train_data ${{outputs.train_data}} --test_data ${{outputs.test_data}} \\\n",
        "            \"\"\",\n",
        "    environment=f\"{pipeline_job_env.name}:{pipeline_job_env.version}\",\n",
        ")"
      ]
    },
    {
      "cell_type": "code",
      "execution_count": 67,
      "id": "9af40d6b",
      "metadata": {
        "gather": {
          "logged": 1717310664622
        }
      },
      "outputs": [],
      "source": [
        "import os\n",
        "\n",
        "train_src_dir = \"./components/train\"\n",
        "os.makedirs(train_src_dir, exist_ok=True)"
      ]
    },
    {
      "cell_type": "code",
      "execution_count": 68,
      "id": "34307446",
      "metadata": {},
      "outputs": [
        {
          "name": "stdout",
          "output_type": "stream",
          "text": [
            "Overwriting ./components/train/train.py\n"
          ]
        }
      ],
      "source": [
        "%%writefile {train_src_dir}/train.py\n",
        "import argparse\n",
        "from sklearn.ensemble import GradientBoostingClassifier\n",
        "from sklearn.metrics import classification_report\n",
        "import os\n",
        "import pandas as pd\n",
        "import mlflow\n",
        "\n",
        "import sys\n",
        "import argparse\n",
        "import joblib\n",
        "import numpy as np\n",
        "from sklearn.compose import ColumnTransformer\n",
        "from sklearn.impute import SimpleImputer\n",
        "from sklearn.linear_model import LogisticRegression\n",
        "from sklearn.pipeline import Pipeline\n",
        "from sklearn.preprocessing import OneHotEncoder, StandardScaler\n",
        "from sklearn.metrics import roc_auc_score,roc_curve\n",
        "# Calculate model performance metrics\n",
        "from sklearn.metrics import confusion_matrix\n",
        "import matplotlib.pyplot as plt\n",
        "\n",
        "\n",
        "\n",
        "def select_first_file(path):\n",
        "    \"\"\"Selects first file in folder, use under assumption there is only one file in folder\n",
        "    Args:\n",
        "        path (str): path to directory or file to choose\n",
        "    Returns:\n",
        "        str: full path of selected file\n",
        "    \"\"\"\n",
        "    files = os.listdir(path)\n",
        "    return os.path.join(path, files[0])\n",
        "\n",
        "\n",
        "# Start Logging\n",
        "mlflow.start_run()\n",
        "\n",
        "# enable autologging\n",
        "mlflow.sklearn.autolog()\n",
        "\n",
        "os.makedirs(\"./outputs\", exist_ok=True)\n",
        "\n",
        "def buildpreprocessorpipeline(X_raw):\n",
        "    categorical_features = X_raw.select_dtypes(include=['object']).columns\n",
        "    numeric_features = X_raw.select_dtypes(include=['float','int64']).columns\n",
        "\n",
        "    categorical_transformer = Pipeline(steps=[('imputer', SimpleImputer(strategy='constant', fill_value=\"missing\")),\n",
        "                                              ('onehotencoder', OneHotEncoder(categories='auto', sparse=False, handle_unknown='ignore'))])\n",
        "    numeric_transformer = Pipeline(steps=[('scaler', StandardScaler())])\n",
        "    \n",
        "    preprocessor = ColumnTransformer(\n",
        "        transformers=[\n",
        "            ('numeric', numeric_transformer, numeric_features),\n",
        "            ('categorical', categorical_transformer, categorical_features)\n",
        "        ], remainder=\"drop\")\n",
        "    \n",
        "    return preprocessor\n",
        "\n",
        "def main():\n",
        "    \"\"\"Main function of the script.\"\"\"\n",
        "\n",
        "    # input and output arguments\n",
        "    parser = argparse.ArgumentParser()\n",
        "    parser.add_argument(\"--train_data\", type=str, help=\"path to train data\")\n",
        "    parser.add_argument(\"--test_data\", type=str, help=\"path to test data\")\n",
        "    parser.add_argument(\"--n_estimators\", required=False, default=100, type=int)\n",
        "    parser.add_argument(\"--learning_rate\", required=False, default=0.1, type=float)\n",
        "    parser.add_argument(\"--registered_model_name\", type=str, help=\"model name\")\n",
        "    parser.add_argument(\"--model\", type=str, help=\"path to model file\")\n",
        "    args = parser.parse_args()\n",
        "\n",
        "    # paths are mounted as folder, therefore, we are selecting the file from folder\n",
        "    train_df = pd.read_csv(select_first_file(args.train_data))\n",
        "    test_df = pd.read_csv(select_first_file(args.test_data))\n",
        "    test_copy = test_df.copy()\n",
        "    \n",
        "    \n",
        "    LABEL = 'Survived'\n",
        "    X_train = train_df.drop([LABEL], axis=1)\n",
        "    \n",
        "    # Extracting the label column\n",
        "    y_test = test_df.pop(LABEL)\n",
        "\n",
        "    # convert the dataframe values to array\n",
        "    X_test = test_copy.drop([LABEL], axis=1)\n",
        "    lg = LogisticRegression(penalty='l2', C=1.0, solver='liblinear')\n",
        "    preprocessor = buildpreprocessorpipeline(X_train)\n",
        "    \n",
        "    #estimator instance\n",
        "    clf = Pipeline(steps=[('preprocessor', preprocessor),\n",
        "                               ('regressor', lg)])\n",
        "\n",
        "    # Extracting the label column\n",
        "    y_train = train_df.pop(\"Survived\")    \n",
        "    model = clf.fit(X_train, y_train)\n",
        "    \n",
        "    # calculate AUC\n",
        "    y_scores = model.predict_proba(X_test)\n",
        "    auc = roc_auc_score(y_test,y_scores[:,1])\n",
        "    print('AUC: ' + str(auc))\n",
        "    \n",
        "    # Registering the model to the workspace\n",
        "    print(\"Registering the model via MLFlow\")\n",
        "    mlflow.sklearn.log_model(\n",
        "        sk_model=model,\n",
        "        registered_model_name=args.registered_model_name,\n",
        "        artifact_path=args.registered_model_name,\n",
        "    )\n",
        "\n",
        "    # Saving the model to a file\n",
        "    mlflow.sklearn.save_model(\n",
        "        sk_model=clf,\n",
        "        path=os.path.join(args.model, \"trained_model\"),\n",
        "    )\n",
        "\n",
        "    # Stop Logging\n",
        "    mlflow.end_run()\n",
        "if __name__ == \"__main__\":\n",
        "    main()"
      ]
    },
    {
      "cell_type": "code",
      "execution_count": 69,
      "id": "2618fd23",
      "metadata": {},
      "outputs": [
        {
          "name": "stdout",
          "output_type": "stream",
          "text": [
            "Overwriting ./components/train/train.yml\n"
          ]
        }
      ],
      "source": [
        "%%writefile {train_src_dir}/train.yml\n",
        "# <component>\n",
        "name: train_titanic_survival_model\n",
        "display_name: Train Titanic Survival Model\n",
        "# version: 1 # Not specifying a version will automatically update the version\n",
        "type: command\n",
        "inputs:\n",
        "  train_data: \n",
        "    type: uri_folder\n",
        "  test_data: \n",
        "    type: uri_folder\n",
        "  learning_rate:\n",
        "    type: number     \n",
        "  registered_model_name:\n",
        "    type: string\n",
        "outputs:\n",
        "  model:\n",
        "    type: uri_folder\n",
        "code: .\n",
        "environment:\n",
        "  # for this step, we'll use an AzureML curate environment\n",
        "  azureml:AzureML-sklearn-0.24-ubuntu18.04-py37-cpu:21\n",
        "command: >-\n",
        "  python train.py \n",
        "  --train_data ${{inputs.train_data}} \n",
        "  --test_data ${{inputs.test_data}} \n",
        "  --learning_rate ${{inputs.learning_rate}}\n",
        "  --registered_model_name ${{inputs.registered_model_name}} \n",
        "  --model ${{outputs.model}}\n",
        "# </component>"
      ]
    },
    {
      "cell_type": "code",
      "execution_count": 42,
      "id": "b15218f5-7ec2-4519-992b-95e0ebbf1113",
      "metadata": {
        "gather": {
          "logged": 1717307852144
        },
        "jupyter": {
          "outputs_hidden": false,
          "source_hidden": false
        },
        "nteract": {
          "transient": {
            "deleting": false
          }
        }
      },
      "outputs": [
        {
          "data": {
            "text/plain": [
              "'./components/train'"
            ]
          },
          "execution_count": 42,
          "metadata": {},
          "output_type": "execute_result"
        }
      ],
      "source": [
        "train_src_dir"
      ]
    },
    {
      "cell_type": "code",
      "execution_count": 70,
      "id": "53554f55",
      "metadata": {
        "gather": {
          "logged": 1717310671020
        }
      },
      "outputs": [],
      "source": [
        "# importing the Component Package\n",
        "from azure.ai.ml import load_component\n",
        "\n",
        "# Debugging refer - https://learn.microsoft.com/en-us/python/api/azure-ai-ml/azure.ai.ml?view=azure-python\n",
        "\n",
        "# Loading the component from the yml file\n",
        "train_component = load_component(source=os.path.join(train_src_dir, \"train.yml\"))"
      ]
    },
    {
      "cell_type": "code",
      "execution_count": 71,
      "id": "29eefbe7",
      "metadata": {
        "gather": {
          "logged": 1717310679851
        }
      },
      "outputs": [
        {
          "name": "stdout",
          "output_type": "stream",
          "text": [
            "Component train_titanic_survival_model with Version 2024-06-02-06-44-35-8054665 is registered\n"
          ]
        }
      ],
      "source": [
        "# Now we register the component to the workspace\n",
        "train_component = ml_client.create_or_update(train_component)\n",
        "\n",
        "# Create (register) the component in your workspace\n",
        "print(\n",
        "    f\"Component {train_component.name} with Version {train_component.version} is registered\"\n",
        ")"
      ]
    },
    {
      "cell_type": "code",
      "execution_count": 72,
      "id": "b25fc92c",
      "metadata": {
        "gather": {
          "logged": 1717310679967
        }
      },
      "outputs": [
        {
          "data": {
            "text/plain": [
              "CommandComponent({'intellectual_property': None, 'auto_increment_version': False, 'source': 'REMOTE.WORKSPACE.COMPONENT', 'is_anonymous': False, 'auto_delete_setting': None, 'name': 'train_titanic_survival_model', 'description': None, 'tags': {}, 'properties': {}, 'print_as_yaml': True, 'id': '/subscriptions/d9304a62-bdd8-46df-bf0c-107ccc0e8d12/resourceGroups/amls-dev-rg/providers/Microsoft.MachineLearningServices/workspaces/amls-dev/components/train_titanic_survival_model/versions/2024-06-02-06-44-35-8054665', 'Resource__source_path': None, 'base_path': PosixPath('.'), 'creation_context': <azure.ai.ml._restclient.v2022_10_01.models._models_py3.SystemData object at 0x7fd57bccd660>, 'serialize': <msrest.serialization.Serializer object at 0x7fd57bc727d0>, 'command': 'python train.py  --train_data ${{inputs.train_data}}  --test_data ${{inputs.test_data}}  --learning_rate ${{inputs.learning_rate}} --registered_model_name ${{inputs.registered_model_name}}  --model ${{outputs.model}}', 'code': '/subscriptions/d9304a62-bdd8-46df-bf0c-107ccc0e8d12/resourceGroups/amls-dev-rg/providers/Microsoft.MachineLearningServices/workspaces/amls-dev/codes/9f1cfa02-09cf-4254-993e-a66b8086076b/versions/1', 'environment_variables': None, 'environment': 'azureml://registries/azureml/environments/AzureML-sklearn-0.24-ubuntu18.04-py37-cpu/versions/21', 'distribution': None, 'resources': {'instance_count': 1}, 'queue_settings': None, 'version': '2024-06-02-06-44-35-8054665', 'latest_version': None, 'schema': None, 'type': 'command', 'display_name': 'Train Titanic Survival Model', 'is_deterministic': True, 'inputs': {'train_data': {'type': 'uri_folder', 'optional': False}, 'test_data': {'type': 'uri_folder', 'optional': False}, 'learning_rate': {'type': 'number', 'optional': False}, 'registered_model_name': {'type': 'string', 'optional': False}}, 'outputs': {'model': {'type': 'uri_folder'}}, 'yaml_str': None, 'other_parameter': {}, 'additional_includes': [], 'CommandComponent__additional_includes_obj': None})"
            ]
          },
          "execution_count": 72,
          "metadata": {},
          "output_type": "execute_result"
        }
      ],
      "source": [
        "train_component"
      ]
    },
    {
      "cell_type": "code",
      "execution_count": 73,
      "id": "2254b230",
      "metadata": {
        "gather": {
          "logged": 1717310680066
        }
      },
      "outputs": [],
      "source": [
        "# the dsl decorator tells the sdk that we are defining an Azure ML pipeline\n",
        "from azure.ai.ml import dsl, Input, Output\n",
        "\n",
        "\n",
        "@dsl.pipeline(\n",
        "    compute=cpu_compute_target,\n",
        "    description=\"Titanic data-prep and model training pipeline\",\n",
        ")\n",
        "def titanic_survival_pipeline(\n",
        "    pipeline_job_data_input,\n",
        "    pipeline_job_test_train_ratio,\n",
        "    pipeline_job_learning_rate,\n",
        "    pipeline_job_registered_model_name,\n",
        "):\n",
        "    # using data_prep_function like a python call with its own inputs\n",
        "    data_prep_job = data_prep_component(\n",
        "        data=pipeline_job_data_input,\n",
        "        test_train_ratio=pipeline_job_test_train_ratio,\n",
        "    )\n",
        "\n",
        "    # using train_func like a python call with its own inputs\n",
        "    train_job = train_component(\n",
        "        train_data=data_prep_job.outputs.train_data,  # note: using outputs from previous step\n",
        "        test_data=data_prep_job.outputs.test_data,  # note: using outputs from previous step\n",
        "        learning_rate=pipeline_job_learning_rate,  # note: using a pipeline input as parameter\n",
        "        registered_model_name=pipeline_job_registered_model_name,\n",
        "    )\n",
        "\n",
        "    # a pipeline returns a dictionary of outputs\n",
        "    # keys will code for the pipeline output identifier\n",
        "    return {\n",
        "        \"pipeline_job_train_data\": data_prep_job.outputs.train_data,\n",
        "        \"pipeline_job_test_data\": data_prep_job.outputs.test_data,\n",
        "    }"
      ]
    },
    {
      "cell_type": "code",
      "execution_count": 74,
      "id": "f3fce95a",
      "metadata": {
        "gather": {
          "logged": 1717310680690
        }
      },
      "outputs": [],
      "source": [
        "from azure.ai.ml.constants import AssetTypes\n",
        "\n",
        "registered_model_name = \"titanic_survival_model_\"\n",
        "\n",
        "titanic_dataset = ml_client.data.get(\"titanic-clean-data\", version='9')\n",
        "\n",
        "# Let's instantiate the pipeline with the parameters of our choice\n",
        "pipeline = titanic_survival_pipeline(\n",
        "    # pipeline_job_data_input=credit_data,\n",
        "    pipeline_job_data_input=Input(type=AssetTypes.URI_FILE, path=titanic_dataset.id),\n",
        "    pipeline_job_test_train_ratio=0.2,\n",
        "    pipeline_job_learning_rate=0.25,\n",
        "    pipeline_job_registered_model_name=registered_model_name,\n",
        ")"
      ]
    },
    {
      "cell_type": "code",
      "execution_count": null,
      "id": "872f80db",
      "metadata": {
        "gather": {
          "logged": 1717310686698
        }
      },
      "outputs": [],
      "source": [
        "import webbrowser\n",
        "\n",
        "# submit the pipeline job\n",
        "pipeline_job = ml_client.jobs.create_or_update(\n",
        "    pipeline,\n",
        "    # Project's name\n",
        "    experiment_name=\"titanic_remote_cluster\",\n",
        ")\n",
        "# open the pipeline in web browser\n",
        "webbrowser.open(pipeline_job.services[\"Studio\"].endpoint)"
      ]
    },
    {
      "cell_type": "code",
      "execution_count": 79,
      "id": "d77bd2d5",
      "metadata": {
        "gather": {
          "logged": 1717312033209
        }
      },
      "outputs": [
        {
          "name": "stdout",
          "output_type": "stream",
          "text": [
            "RunId: dreamy_ear_qgw2vz4hpj\n",
            "Web View: https://ml.azure.com/runs/dreamy_ear_qgw2vz4hpj?wsid=/subscriptions/d9304a62-bdd8-46df-bf0c-107ccc0e8d12/resourcegroups/amls-dev-rg/workspaces/amls-dev\n",
            "\n",
            "Streaming logs/azureml/executionlogs.txt\n",
            "========================================\n",
            "\n",
            "[2024-06-02 07:07:10Z] Completing processing run id ce142a73-ebad-4f9c-8f76-6c9d9dfaa861.\n",
            "[2024-06-02 07:07:11Z] Completing processing run id dcf92248-f243-4c4a-9bda-551f26963608.\n",
            "[2024-06-02 07:07:11Z] Finishing experiment: no runs left and nothing to schedule.\n",
            "\n",
            "Execution Summary\n",
            "=================\n",
            "RunId: dreamy_ear_qgw2vz4hpj\n",
            "Web View: https://ml.azure.com/runs/dreamy_ear_qgw2vz4hpj?wsid=/subscriptions/d9304a62-bdd8-46df-bf0c-107ccc0e8d12/resourcegroups/amls-dev-rg/workspaces/amls-dev\n",
            "\n"
          ]
        }
      ],
      "source": [
        "ml_client.jobs.stream(pipeline_job.name)"
      ]
    },
    {
      "cell_type": "code",
      "execution_count": null,
      "id": "e7d41c57-26e9-4669-8141-ef566d6c69b0",
      "metadata": {
        "jupyter": {
          "outputs_hidden": false,
          "source_hidden": false
        },
        "nteract": {
          "transient": {
            "deleting": false
          }
        }
      },
      "outputs": [],
      "source": []
    }
  ],
  "metadata": {
    "kernel_info": {
      "name": "python310-sdkv2"
    },
    "kernelspec": {
      "display_name": "Python 3.10 - SDK v2",
      "language": "python",
      "name": "python310-sdkv2"
    },
    "language_info": {
      "codemirror_mode": {
        "name": "ipython",
        "version": 3
      },
      "file_extension": ".py",
      "mimetype": "text/x-python",
      "name": "python",
      "nbconvert_exporter": "python",
      "pygments_lexer": "ipython3",
      "version": "3.10.11"
    },
    "microsoft": {
      "host": {
        "AzureML": {
          "notebookHasBeenCompleted": true
        }
      },
      "ms_spell_check": {
        "ms_spell_check_language": "en"
      }
    },
    "nteract": {
      "version": "nteract-front-end@1.0.0"
    }
  },
  "nbformat": 4,
  "nbformat_minor": 5
}
