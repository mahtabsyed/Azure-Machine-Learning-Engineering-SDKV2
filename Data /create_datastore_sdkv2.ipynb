{
 "cells": [
  {
   "cell_type": "code",
   "execution_count": null,
   "id": "3b565420",
   "metadata": {},
   "outputs": [],
   "source": [
    "# import required libraries\n",
    "from azure.ai.ml import MLClient\n",
    "from azure.identity import DefaultAzureCredential\n",
    "from azure.ai.ml import command, Input\n",
    "from azure.ai.ml.entities import (\n",
    "    AzureBlobDatastore,\n",
    "    AzureFileDatastore,\n",
    "    AzureDataLakeGen1Datastore,\n",
    "    AzureDataLakeGen2Datastore,\n",
    ")\n",
    "from azure.ai.ml.entities import Environment"
   ]
  },
  {
   "cell_type": "code",
   "execution_count": null,
   "id": "e9ddf539",
   "metadata": {},
   "outputs": [],
   "source": [
    "import json\n",
    "# Load config from config.json file\n",
    "try:\n",
    "    with open('config.json') as user_file:\n",
    "          parsed_json = json.load(user_file)\n",
    "            \n",
    "    # print(parsed_json)\n",
    "    subscription_id = parsed_json[\"subscription_id\"]\n",
    "    resource_group = parsed_json[\"resource_group\"]\n",
    "    workspace = parsed_json[\"workspace_name\"]\n",
    "    # print(f\"{subscription_id}, {resource_group}, {workspace}\")\n",
    "    \n",
    "except:\n",
    "    print(\"Unable to find config.json\")"
   ]
  },
  {
   "cell_type": "code",
   "execution_count": null,
   "id": "45d3d5c8",
   "metadata": {},
   "outputs": [],
   "source": [
    "# get a handle to the workspace\n",
    "ml_client = MLClient(\n",
    "    DefaultAzureCredential(), subscription_id, resource_group, workspace\n",
    ")"
   ]
  },
  {
   "cell_type": "code",
   "execution_count": null,
   "id": "eb3098a5",
   "metadata": {},
   "outputs": [],
   "source": [
    "ml_client"
   ]
  },
  {
   "cell_type": "markdown",
   "id": "9e600dd8",
   "metadata": {},
   "source": [
    "## Create Blob storage datastore"
   ]
  },
  {
   "cell_type": "code",
   "execution_count": null,
   "id": "864d4c76",
   "metadata": {},
   "outputs": [],
   "source": [
    "from azure.ai.ml.entities import AzureBlobDatastore\n",
    "from azure.ai.ml.entities import AccountKeyConfiguration\n",
    "from azure.ai.ml import MLClient\n",
    "\n",
    "# Create a datastore with account key\n",
    "\n",
    "blob_datastore1 = AzureBlobDatastore(\n",
    "    name=\"blob_storage\",\n",
    "    description=\"AML Datastore pointing to a blob storgae\",\n",
    "    account_name=\"amlv2sa10052024\",\n",
    "    container_name=\"datacontainer\",\n",
    "    credentials=AccountKeyConfiguration(\n",
    "        account_key=\"ADD\"\n",
    "    ),\n",
    "    \n",
    ")\n",
    "ml_client.create_or_update(blob_datastore1)"
   ]
  },
  {
   "cell_type": "code",
   "execution_count": null,
   "id": "e4c7b6f5",
   "metadata": {},
   "outputs": [],
   "source": []
  }
 ],
 "metadata": {
  "kernelspec": {
   "display_name": "Python 3.10 - SDK v2",
   "language": "python",
   "name": "python310-sdkv2"
  },
  "language_info": {
   "codemirror_mode": {
    "name": "ipython",
    "version": 3
   },
   "file_extension": ".py",
   "mimetype": "text/x-python",
   "name": "python",
   "nbconvert_exporter": "python",
   "pygments_lexer": "ipython3",
   "version": "3.10.11"
  }
 },
 "nbformat": 4,
 "nbformat_minor": 5
}
