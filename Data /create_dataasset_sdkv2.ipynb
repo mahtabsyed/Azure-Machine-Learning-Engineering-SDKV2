{
 "cells": [
  {
   "cell_type": "code",
   "execution_count": null,
   "id": "c0825e8f",
   "metadata": {},
   "outputs": [],
   "source": [
    "# import required libraries\n",
    "from azure.ai.ml import MLClient\n",
    "from azure.identity import DefaultAzureCredential\n",
    "from azure.ai.ml import command, Input\n",
    "from azure.ai.ml.entities import (\n",
    "    AzureBlobDatastore,\n",
    "    AzureFileDatastore,\n",
    "    AzureDataLakeGen1Datastore,\n",
    "    AzureDataLakeGen2Datastore,\n",
    ")\n",
    "from azure.ai.ml.entities import Environment"
   ]
  },
  {
   "cell_type": "code",
   "execution_count": null,
   "id": "6af61e16",
   "metadata": {},
   "outputs": [],
   "source": [
    "import json\n",
    "# Load config from config.json file\n",
    "try:\n",
    "    with open('config.json') as user_file:\n",
    "          parsed_json = json.load(user_file)\n",
    "            \n",
    "    # print(parsed_json)\n",
    "    subscription_id = parsed_json[\"subscription_id\"]\n",
    "    resource_group = parsed_json[\"resource_group\"]\n",
    "    workspace = parsed_json[\"workspace_name\"]\n",
    "    # print(f\"{subscription_id}, {resource_group}, {workspace}\")\n",
    "    \n",
    "except:\n",
    "    print(\"Unable to find config.json\")"
   ]
  },
  {
   "cell_type": "code",
   "execution_count": null,
   "id": "fcf37654",
   "metadata": {},
   "outputs": [],
   "source": [
    "# get a handle to the workspace\n",
    "ml_client = MLClient(\n",
    "    DefaultAzureCredential(), subscription_id, resource_group, workspace\n",
    ")"
   ]
  },
  {
   "cell_type": "code",
   "execution_count": null,
   "id": "3bea2278",
   "metadata": {},
   "outputs": [],
   "source": [
    "ml_client"
   ]
  },
  {
   "cell_type": "code",
   "execution_count": null,
   "id": "1f019a04",
   "metadata": {},
   "outputs": [],
   "source": [
    "from azure.ai.ml.entities import Data\n",
    "from azure.ai.ml.constants import AssetTypes\n",
    "\n",
    "# my_path must point to folder containing MLTable artifact (MLTable file + data\n",
    "# Supported paths include:\n",
    "# local: './<path>'\n",
    "# blob:  'https://<account_name>.blob.core.windows.net/<container_name>/<path>'\n",
    "# ADLS gen2: 'abfss://<file_system>@<account_name>.dfs.core.windows.net/<path>/'\n",
    "# Datastore: 'azureml://datastores/<data_store_name>/paths/<path>'\n",
    "\n",
    "my_path = './my_data/'\n",
    "\n",
    "my_data = Data(\n",
    "    path=my_path,\n",
    "    type=AssetTypes.MLTABLE,\n",
    "    description=\"description\",\n",
    "    name=\"titanic-mltable-sdk\",\n",
    "    version='1'\n",
    ")\n",
    "\n",
    "ml_client.data.create_or_update(my_data)"
   ]
  },
  {
   "cell_type": "code",
   "execution_count": null,
   "id": "74542023",
   "metadata": {},
   "outputs": [],
   "source": []
  }
 ],
 "metadata": {
  "kernelspec": {
   "display_name": "Python 3.10 - SDK v2",
   "language": "python",
   "name": "python310-sdkv2"
  },
  "language_info": {
   "codemirror_mode": {
    "name": "ipython",
    "version": 3
   },
   "file_extension": ".py",
   "mimetype": "text/x-python",
   "name": "python",
   "nbconvert_exporter": "python",
   "pygments_lexer": "ipython3",
   "version": "3.10.11"
  }
 },
 "nbformat": 4,
 "nbformat_minor": 5
}
